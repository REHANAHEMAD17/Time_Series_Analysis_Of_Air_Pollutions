{
 "cells": [
  {
   "cell_type": "code",
   "execution_count": null,
   "id": "171a7698-56e0-499a-aecc-dc4f475fb164",
   "metadata": {},
   "outputs": [],
   "source": []
  },
  {
   "cell_type": "code",
   "execution_count": 289,
   "id": "562e0eae-733e-4136-8818-e9f6291350d1",
   "metadata": {},
   "outputs": [],
   "source": [
    "import pandas as pd\n",
    "import numpy as np\n",
    "import warnings\n",
    "warnings.filterwarnings('ignore')\n",
    "import seaborn as sns\n",
    "%matplotlib inline\n",
    "import matplotlib.pyplot as plt"
   ]
  },
  {
   "cell_type": "code",
   "execution_count": 290,
   "id": "80637ab6-26c6-4177-ae08-cd399d0fe578",
   "metadata": {},
   "outputs": [
    {
     "data": {
      "text/html": [
       "<div>\n",
       "<style scoped>\n",
       "    .dataframe tbody tr th:only-of-type {\n",
       "        vertical-align: middle;\n",
       "    }\n",
       "\n",
       "    .dataframe tbody tr th {\n",
       "        vertical-align: top;\n",
       "    }\n",
       "\n",
       "    .dataframe thead th {\n",
       "        text-align: right;\n",
       "    }\n",
       "</style>\n",
       "<table border=\"1\" class=\"dataframe\">\n",
       "  <thead>\n",
       "    <tr style=\"text-align: right;\">\n",
       "      <th></th>\n",
       "      <th>Timestamp</th>\n",
       "      <th>Temperature(C)</th>\n",
       "      <th>Humidity(%)</th>\n",
       "      <th>PM2.5(μg/m³)</th>\n",
       "      <th>PM10(μg/m³)</th>\n",
       "      <th>CO(ppm)</th>\n",
       "      <th>NO2(ppb)</th>\n",
       "      <th>SO2(ppb)</th>\n",
       "      <th>AQI</th>\n",
       "    </tr>\n",
       "  </thead>\n",
       "  <tbody>\n",
       "    <tr>\n",
       "      <th>0</th>\n",
       "      <td>01-01-2024 00:00</td>\n",
       "      <td>27.483571</td>\n",
       "      <td>66.628813</td>\n",
       "      <td>265.817242</td>\n",
       "      <td>337.626685</td>\n",
       "      <td>2.472873</td>\n",
       "      <td>101.021526</td>\n",
       "      <td>83.682923</td>\n",
       "      <td>200.376655</td>\n",
       "    </tr>\n",
       "    <tr>\n",
       "      <th>1</th>\n",
       "      <td>01-01-2024 01:00</td>\n",
       "      <td>24.308678</td>\n",
       "      <td>71.734739</td>\n",
       "      <td>54.566963</td>\n",
       "      <td>125.466573</td>\n",
       "      <td>1.851544</td>\n",
       "      <td>82.935638</td>\n",
       "      <td>88.378372</td>\n",
       "      <td>60.036787</td>\n",
       "    </tr>\n",
       "    <tr>\n",
       "      <th>2</th>\n",
       "      <td>01-01-2024 02:00</td>\n",
       "      <td>28.238443</td>\n",
       "      <td>61.810216</td>\n",
       "      <td>138.862486</td>\n",
       "      <td>170.103418</td>\n",
       "      <td>2.935409</td>\n",
       "      <td>86.631339</td>\n",
       "      <td>88.860321</td>\n",
       "      <td>106.863432</td>\n",
       "    </tr>\n",
       "    <tr>\n",
       "      <th>3</th>\n",
       "      <td>01-01-2024 03:00</td>\n",
       "      <td>32.615149</td>\n",
       "      <td>47.031681</td>\n",
       "      <td>154.218385</td>\n",
       "      <td>236.191337</td>\n",
       "      <td>2.871755</td>\n",
       "      <td>189.581685</td>\n",
       "      <td>58.865235</td>\n",
       "      <td>116.604202</td>\n",
       "    </tr>\n",
       "    <tr>\n",
       "      <th>4</th>\n",
       "      <td>01-01-2024 04:00</td>\n",
       "      <td>23.829233</td>\n",
       "      <td>63.996880</td>\n",
       "      <td>159.014249</td>\n",
       "      <td>179.877096</td>\n",
       "      <td>2.162216</td>\n",
       "      <td>120.372490</td>\n",
       "      <td>92.361299</td>\n",
       "      <td>127.010633</td>\n",
       "    </tr>\n",
       "  </tbody>\n",
       "</table>\n",
       "</div>"
      ],
      "text/plain": [
       "          Timestamp  Temperature(C)  Humidity(%)  PM2.5(μg/m³)  PM10(μg/m³)  \\\n",
       "0  01-01-2024 00:00       27.483571    66.628813    265.817242   337.626685   \n",
       "1  01-01-2024 01:00       24.308678    71.734739     54.566963   125.466573   \n",
       "2  01-01-2024 02:00       28.238443    61.810216    138.862486   170.103418   \n",
       "3  01-01-2024 03:00       32.615149    47.031681    154.218385   236.191337   \n",
       "4  01-01-2024 04:00       23.829233    63.996880    159.014249   179.877096   \n",
       "\n",
       "    CO(ppm)    NO2(ppb)   SO2(ppb)         AQI  \n",
       "0  2.472873  101.021526  83.682923  200.376655  \n",
       "1  1.851544   82.935638  88.378372   60.036787  \n",
       "2  2.935409   86.631339  88.860321  106.863432  \n",
       "3  2.871755  189.581685  58.865235  116.604202  \n",
       "4  2.162216  120.372490  92.361299  127.010633  "
      ]
     },
     "execution_count": 290,
     "metadata": {},
     "output_type": "execute_result"
    }
   ],
   "source": [
    "df=pd.read_csv('air_quality_data.csv')\n",
    "df.head()"
   ]
  },
  {
   "cell_type": "code",
   "execution_count": 291,
   "id": "e893b8f6-a0ae-4041-8225-20067ef24fa2",
   "metadata": {},
   "outputs": [
    {
     "name": "stdout",
     "output_type": "stream",
     "text": [
      "<class 'pandas.core.frame.DataFrame'>\n",
      "RangeIndex: 1440 entries, 0 to 1439\n",
      "Data columns (total 9 columns):\n",
      " #   Column          Non-Null Count  Dtype  \n",
      "---  ------          --------------  -----  \n",
      " 0   Timestamp       1440 non-null   object \n",
      " 1   Temperature(C)  1440 non-null   float64\n",
      " 2   Humidity(%)     1440 non-null   float64\n",
      " 3   PM2.5(μg/m³)    1440 non-null   float64\n",
      " 4   PM10(μg/m³)     1440 non-null   float64\n",
      " 5   CO(ppm)         1440 non-null   float64\n",
      " 6   NO2(ppb)        1440 non-null   float64\n",
      " 7   SO2(ppb)        1440 non-null   float64\n",
      " 8   AQI             1440 non-null   float64\n",
      "dtypes: float64(8), object(1)\n",
      "memory usage: 101.4+ KB\n"
     ]
    }
   ],
   "source": [
    "df.info()"
   ]
  },
  {
   "cell_type": "code",
   "execution_count": 292,
   "id": "7a716dce-f981-4678-b693-3ad4f9504c36",
   "metadata": {},
   "outputs": [
    {
     "data": {
      "text/plain": [
       "Timestamp         0\n",
       "Temperature(C)    0\n",
       "Humidity(%)       0\n",
       "PM2.5(μg/m³)      0\n",
       "PM10(μg/m³)       0\n",
       "CO(ppm)           0\n",
       "NO2(ppb)          0\n",
       "SO2(ppb)          0\n",
       "AQI               0\n",
       "dtype: int64"
      ]
     },
     "execution_count": 292,
     "metadata": {},
     "output_type": "execute_result"
    }
   ],
   "source": [
    "df.isna().sum()"
   ]
  },
  {
   "cell_type": "code",
   "execution_count": 293,
   "id": "ce03d4ff-ce85-4bc3-b1be-c48a6e737231",
   "metadata": {},
   "outputs": [
    {
     "data": {
      "text/plain": [
       "<function matplotlib.pyplot.show(close=None, block=None)>"
      ]
     },
     "execution_count": 293,
     "metadata": {},
     "output_type": "execute_result"
    },
    {
     "data": {
      "image/png": "[encoded data removed]",
      "text/plain": [
       "<Figure size 640x480 with 1 Axes>"
      ]
     },
     "metadata": {},
     "output_type": "display_data"
    }
   ],
   "source": [
    "sns.heatmap(df.isna(), cbar= False, cmap= 'viridis')\n",
    "plt.show  \n",
    "\n",
    "# There means having no NaN values in this dataframes as visulizations"
   ]
  },
  {
   "cell_type": "code",
   "execution_count": 294,
   "id": "d045a06f-58af-4cfe-90a5-cbef9b56562a",
   "metadata": {},
   "outputs": [
    {
     "name": "stdout",
     "output_type": "stream",
     "text": [
      "Shape of dataframes indexes and columns: (1440, 9)\n",
      "********************\n",
      "Shape of DataFrame index: RangeIndex(start=0, stop=1440, step=1)\n",
      "********************\n",
      "all columns Names: Timestamp\n",
      "all columns Names: Temperature(C)\n",
      "all columns Names: Humidity(%)\n",
      "all columns Names: PM2.5(μg/m³)\n",
      "all columns Names: PM10(μg/m³)\n",
      "all columns Names: CO(ppm)\n",
      "all columns Names: NO2(ppb)\n",
      "all columns Names: SO2(ppb)\n",
      "all columns Names: AQI\n"
     ]
    }
   ],
   "source": [
    "print('Shape of dataframes indexes and columns:', df.shape)\n",
    "print('*'*20)\n",
    "print('Shape of DataFrame index:', df.index)\n",
    "print('*'*20)\n",
    "for column_index in df.columns:\n",
    "    print('all columns Names:', column_index)"
   ]
  },
  {
   "cell_type": "code",
   "execution_count": 295,
   "id": "5580ab2b-01c3-4181-81d0-a20e5c175e22",
   "metadata": {},
   "outputs": [
    {
     "data": {
      "text/html": [
       "<div>\n",
       "<style scoped>\n",
       "    .dataframe tbody tr th:only-of-type {\n",
       "        vertical-align: middle;\n",
       "    }\n",
       "\n",
       "    .dataframe tbody tr th {\n",
       "        vertical-align: top;\n",
       "    }\n",
       "\n",
       "    .dataframe thead th {\n",
       "        text-align: right;\n",
       "    }\n",
       "</style>\n",
       "<table border=\"1\" class=\"dataframe\">\n",
       "  <thead>\n",
       "    <tr style=\"text-align: right;\">\n",
       "      <th></th>\n",
       "      <th>Timestamp</th>\n",
       "    </tr>\n",
       "  </thead>\n",
       "  <tbody>\n",
       "    <tr>\n",
       "      <th>22</th>\n",
       "      <td>01-01-2024 22:00</td>\n",
       "    </tr>\n",
       "    <tr>\n",
       "      <th>23</th>\n",
       "      <td>01-01-2024 23:00</td>\n",
       "    </tr>\n",
       "    <tr>\n",
       "      <th>24</th>\n",
       "      <td>02-01-2024 00:00</td>\n",
       "    </tr>\n",
       "    <tr>\n",
       "      <th>25</th>\n",
       "      <td>02-01-2024 01:00</td>\n",
       "    </tr>\n",
       "    <tr>\n",
       "      <th>26</th>\n",
       "      <td>02-01-2024 02:00</td>\n",
       "    </tr>\n",
       "    <tr>\n",
       "      <th>27</th>\n",
       "      <td>02-01-2024 03:00</td>\n",
       "    </tr>\n",
       "    <tr>\n",
       "      <th>28</th>\n",
       "      <td>02-01-2024 04:00</td>\n",
       "    </tr>\n",
       "    <tr>\n",
       "      <th>29</th>\n",
       "      <td>02-01-2024 05:00</td>\n",
       "    </tr>\n",
       "  </tbody>\n",
       "</table>\n",
       "</div>"
      ],
      "text/plain": [
       "           Timestamp\n",
       "22  01-01-2024 22:00\n",
       "23  01-01-2024 23:00\n",
       "24  02-01-2024 00:00\n",
       "25  02-01-2024 01:00\n",
       "26  02-01-2024 02:00\n",
       "27  02-01-2024 03:00\n",
       "28  02-01-2024 04:00\n",
       "29  02-01-2024 05:00"
      ]
     },
     "execution_count": 295,
     "metadata": {},
     "output_type": "execute_result"
    }
   ],
   "source": [
    "df.select_dtypes(exclude= [int, float]).iloc[22:30]"
   ]
  },
  {
   "cell_type": "code",
   "execution_count": 296,
   "id": "657c3207-aa21-4094-83f9-8ae9da0950cd",
   "metadata": {},
   "outputs": [
    {
     "data": {
      "text/plain": [
       "<Axes: xlabel='Temperature(C)', ylabel='Humidity(%)'>"
      ]
     },
     "execution_count": 296,
     "metadata": {},
     "output_type": "execute_result"
    },
    {
     "data": {
      "image/png": "[encoded data removed]",
      "text/plain": [
       "<Figure size 640x480 with 1 Axes>"
      ]
     },
     "metadata": {},
     "output_type": "display_data"
    }
   ],
   "source": [
    "\n",
    "# Multivariance Anaylsis \n",
    "\n",
    "sns.scatterplot(x= df['Temperature(C)'].head(500), y= df['Humidity(%)'].head(500), hue= df['NO2(ppb)'].head(500))"
   ]
  },
  {
   "cell_type": "code",
   "execution_count": 297,
   "id": "51a1d88c-f1d9-4ed8-9208-103abe9ec238",
   "metadata": {},
   "outputs": [
    {
     "data": {
      "image/png": "[encoded data removed]",
      "text/plain": [
       "<Figure size 700x600 with 2 Axes>"
      ]
     },
     "metadata": {},
     "output_type": "display_data"
    }
   ],
   "source": [
    "dist_no_hum= plt.figure(figsize= (7,6))\n",
    "ra1= dist_no_hum.add_subplot(1,2,1)\n",
    "ra2=dist_no_hum.add_subplot(1,2,2)\n",
    "\n",
    "ra1.hist(df['NO2(ppb)'])\n",
    "ra1.set_title('The Distriburion of no2')\n",
    "\n",
    "ra2.hist(df['Humidity(%)'], color= 'skyblue')\n",
    "ra2.set_title('The Distribution of humidity')\n",
    "\n",
    "plt.tight_layout()\n",
    "plt.show()"
   ]
  },
  {
   "cell_type": "code",
   "execution_count": 298,
   "id": "d7a9d8fa-dbaa-4110-8ee0-e3b32d055911",
   "metadata": {},
   "outputs": [
    {
     "data": {
      "image/png": "[encoded data removed]",
      "text/plain": [
       "<Figure size 400x500 with 1 Axes>"
      ]
     },
     "metadata": {},
     "output_type": "display_data"
    }
   ],
   "source": [
    "scatter_tem_hum=df.plot.scatter('Temperature(C)', 'Humidity(%)', figsize=(4,5))\n",
    "plt.title('The Relationship Between Temperature(C) & Humidity(%)')\n",
    "plt.show()\n",
    "\n"
   ]
  },
  {
   "cell_type": "code",
   "execution_count": 299,
   "id": "ab8b384e-af05-489a-a790-dafb241dfd93",
   "metadata": {},
   "outputs": [
    {
     "data": {
      "image/png": "[encoded data removed]",
      "text/plain": [
       "<Figure size 800x800 with 2 Axes>"
      ]
     },
     "metadata": {},
     "output_type": "display_data"
    }
   ],
   "source": [
    "dist_temp_hum= df[['Temperature(C)', 'Humidity(%)']].plot(kind= 'box', figsize=(8,8), subplots= True, layout=(1,2), sharex= False, sharey= False, \n",
    "                                                   title='The Distribution of  Temperature(C) & Humidity(%)')\n",
    "plt.show()"
   ]
  },
  {
   "cell_type": "raw",
   "id": "5766acc8-8a04-454f-b33d-2b2796090135",
   "metadata": {},
   "source": [
    "df= df.drop('Humidity(%)', axis= 1)\n",
    "df= df.drop('PM10(μg/m³)', axis= 1)\n",
    "df= df.drop('Temperature(C)', axis= 1)\n",
    "df=df.drop('CO(ppm)', axis= 1)\n",
    "df=df.drop('NO2(ppb)',axis= 1)\n",
    "df=df.drop('SO2(ppb)',axis= 1)\n",
    "df=df.drop('AQI',axis= 1)\n",
    "df"
   ]
  },
  {
   "cell_type": "code",
   "execution_count": 300,
   "id": "a97941d2-b956-40a7-9477-d1fd3e715f26",
   "metadata": {},
   "outputs": [
    {
     "data": {
      "text/html": [
       "<div>\n",
       "<style scoped>\n",
       "    .dataframe tbody tr th:only-of-type {\n",
       "        vertical-align: middle;\n",
       "    }\n",
       "\n",
       "    .dataframe tbody tr th {\n",
       "        vertical-align: top;\n",
       "    }\n",
       "\n",
       "    .dataframe thead th {\n",
       "        text-align: right;\n",
       "    }\n",
       "</style>\n",
       "<table border=\"1\" class=\"dataframe\">\n",
       "  <thead>\n",
       "    <tr style=\"text-align: right;\">\n",
       "      <th></th>\n",
       "      <th>Timestamp</th>\n",
       "      <th>PM10(μg/m³)</th>\n",
       "    </tr>\n",
       "  </thead>\n",
       "  <tbody>\n",
       "    <tr>\n",
       "      <th>0</th>\n",
       "      <td>01-01-2024 00:00</td>\n",
       "      <td>337.626685</td>\n",
       "    </tr>\n",
       "    <tr>\n",
       "      <th>1</th>\n",
       "      <td>01-01-2024 01:00</td>\n",
       "      <td>125.466573</td>\n",
       "    </tr>\n",
       "    <tr>\n",
       "      <th>2</th>\n",
       "      <td>01-01-2024 02:00</td>\n",
       "      <td>170.103418</td>\n",
       "    </tr>\n",
       "    <tr>\n",
       "      <th>3</th>\n",
       "      <td>01-01-2024 03:00</td>\n",
       "      <td>236.191337</td>\n",
       "    </tr>\n",
       "    <tr>\n",
       "      <th>4</th>\n",
       "      <td>01-01-2024 04:00</td>\n",
       "      <td>179.877096</td>\n",
       "    </tr>\n",
       "    <tr>\n",
       "      <th>...</th>\n",
       "      <td>...</td>\n",
       "      <td>...</td>\n",
       "    </tr>\n",
       "    <tr>\n",
       "      <th>1435</th>\n",
       "      <td>29-02-2024 19:00</td>\n",
       "      <td>188.498352</td>\n",
       "    </tr>\n",
       "    <tr>\n",
       "      <th>1436</th>\n",
       "      <td>29-02-2024 20:00</td>\n",
       "      <td>248.066549</td>\n",
       "    </tr>\n",
       "    <tr>\n",
       "      <th>1437</th>\n",
       "      <td>29-02-2024 21:00</td>\n",
       "      <td>267.094867</td>\n",
       "    </tr>\n",
       "    <tr>\n",
       "      <th>1438</th>\n",
       "      <td>29-02-2024 22:00</td>\n",
       "      <td>306.610141</td>\n",
       "    </tr>\n",
       "    <tr>\n",
       "      <th>1439</th>\n",
       "      <td>29-02-2024 23:00</td>\n",
       "      <td>191.358142</td>\n",
       "    </tr>\n",
       "  </tbody>\n",
       "</table>\n",
       "<p>1440 rows × 2 columns</p>\n",
       "</div>"
      ],
      "text/plain": [
       "             Timestamp  PM10(μg/m³)\n",
       "0     01-01-2024 00:00   337.626685\n",
       "1     01-01-2024 01:00   125.466573\n",
       "2     01-01-2024 02:00   170.103418\n",
       "3     01-01-2024 03:00   236.191337\n",
       "4     01-01-2024 04:00   179.877096\n",
       "...                ...          ...\n",
       "1435  29-02-2024 19:00   188.498352\n",
       "1436  29-02-2024 20:00   248.066549\n",
       "1437  29-02-2024 21:00   267.094867\n",
       "1438  29-02-2024 22:00   306.610141\n",
       "1439  29-02-2024 23:00   191.358142\n",
       "\n",
       "[1440 rows x 2 columns]"
      ]
     },
     "execution_count": 300,
     "metadata": {},
     "output_type": "execute_result"
    }
   ],
   "source": [
    "df= df.iloc[:, [0,4]]\n",
    "df2"
   ]
  },
  {
   "cell_type": "code",
   "execution_count": 301,
   "id": "4d3569fd-bd25-444a-aa6c-9ab5dd16959f",
   "metadata": {},
   "outputs": [
    {
     "name": "stdout",
     "output_type": "stream",
     "text": [
      "Sucessfully\n"
     ]
    }
   ],
   "source": [
    "df2.to_csv('air_quality_data.csv_', index= False)\n",
    "print('Sucessfully')"
   ]
  },
  {
   "cell_type": "code",
   "execution_count": 302,
   "id": "eb3d5428-1e09-4513-9f1d-abf46fe1b56b",
   "metadata": {},
   "outputs": [
    {
     "data": {
      "text/html": [
       "<div>\n",
       "<style scoped>\n",
       "    .dataframe tbody tr th:only-of-type {\n",
       "        vertical-align: middle;\n",
       "    }\n",
       "\n",
       "    .dataframe tbody tr th {\n",
       "        vertical-align: top;\n",
       "    }\n",
       "\n",
       "    .dataframe thead th {\n",
       "        text-align: right;\n",
       "    }\n",
       "</style>\n",
       "<table border=\"1\" class=\"dataframe\">\n",
       "  <thead>\n",
       "    <tr style=\"text-align: right;\">\n",
       "      <th></th>\n",
       "      <th>PM10(μg/m³)</th>\n",
       "    </tr>\n",
       "    <tr>\n",
       "      <th>Timestamp</th>\n",
       "      <th></th>\n",
       "    </tr>\n",
       "  </thead>\n",
       "  <tbody>\n",
       "    <tr>\n",
       "      <th>01-01-2024 00:00</th>\n",
       "      <td>337.626685</td>\n",
       "    </tr>\n",
       "    <tr>\n",
       "      <th>01-01-2024 01:00</th>\n",
       "      <td>125.466573</td>\n",
       "    </tr>\n",
       "    <tr>\n",
       "      <th>01-01-2024 02:00</th>\n",
       "      <td>170.103418</td>\n",
       "    </tr>\n",
       "    <tr>\n",
       "      <th>01-01-2024 03:00</th>\n",
       "      <td>236.191337</td>\n",
       "    </tr>\n",
       "    <tr>\n",
       "      <th>01-01-2024 04:00</th>\n",
       "      <td>179.877096</td>\n",
       "    </tr>\n",
       "  </tbody>\n",
       "</table>\n",
       "</div>"
      ],
      "text/plain": [
       "                  PM10(μg/m³)\n",
       "Timestamp                    \n",
       "01-01-2024 00:00   337.626685\n",
       "01-01-2024 01:00   125.466573\n",
       "01-01-2024 02:00   170.103418\n",
       "01-01-2024 03:00   236.191337\n",
       "01-01-2024 04:00   179.877096"
      ]
     },
     "execution_count": 302,
     "metadata": {},
     "output_type": "execute_result"
    }
   ],
   "source": [
    "df3= pd.read_csv('air_quality_data.csv_', index_col=[0], parse_dates= [0])     # Mainly csv fie saved as df3\n",
    "df3.head()"
   ]
  },
  {
   "cell_type": "code",
   "execution_count": 303,
   "id": "eadd2d16-5080-463f-b9a8-033f6e0cdca6",
   "metadata": {},
   "outputs": [
    {
     "data": {
      "text/plain": [
       "pandas.core.frame.DataFrame"
      ]
     },
     "execution_count": 303,
     "metadata": {},
     "output_type": "execute_result"
    }
   ],
   "source": [
    "type(df3)"
   ]
  },
  {
   "cell_type": "code",
   "execution_count": 304,
   "id": "1927bfa9-c38d-48c4-a51a-adf448d33752",
   "metadata": {},
   "outputs": [
    {
     "data": {
      "text/plain": [
       "numpy.ndarray"
      ]
     },
     "execution_count": 304,
     "metadata": {},
     "output_type": "execute_result"
    }
   ],
   "source": [
    "series_values= df3.values\n",
    "series_values\n",
    "\n",
    "\n",
    "type(series_values)"
   ]
  },
  {
   "cell_type": "code",
   "execution_count": 305,
   "id": "1896f5d5-084c-4a87-abbd-b0457bb6f7fc",
   "metadata": {},
   "outputs": [
    {
     "data": {
      "text/html": [
       "<div>\n",
       "<style scoped>\n",
       "    .dataframe tbody tr th:only-of-type {\n",
       "        vertical-align: middle;\n",
       "    }\n",
       "\n",
       "    .dataframe tbody tr th {\n",
       "        vertical-align: top;\n",
       "    }\n",
       "\n",
       "    .dataframe thead th {\n",
       "        text-align: right;\n",
       "    }\n",
       "</style>\n",
       "<table border=\"1\" class=\"dataframe\">\n",
       "  <thead>\n",
       "    <tr style=\"text-align: right;\">\n",
       "      <th></th>\n",
       "      <th>PM10(μg/m³)</th>\n",
       "    </tr>\n",
       "    <tr>\n",
       "      <th>Timestamp</th>\n",
       "      <th></th>\n",
       "    </tr>\n",
       "  </thead>\n",
       "  <tbody>\n",
       "    <tr>\n",
       "      <th>29-02-2024 19:00</th>\n",
       "      <td>188.498352</td>\n",
       "    </tr>\n",
       "    <tr>\n",
       "      <th>29-02-2024 20:00</th>\n",
       "      <td>248.066549</td>\n",
       "    </tr>\n",
       "    <tr>\n",
       "      <th>29-02-2024 21:00</th>\n",
       "      <td>267.094867</td>\n",
       "    </tr>\n",
       "    <tr>\n",
       "      <th>29-02-2024 22:00</th>\n",
       "      <td>306.610141</td>\n",
       "    </tr>\n",
       "    <tr>\n",
       "      <th>29-02-2024 23:00</th>\n",
       "      <td>191.358142</td>\n",
       "    </tr>\n",
       "  </tbody>\n",
       "</table>\n",
       "</div>"
      ],
      "text/plain": [
       "                  PM10(μg/m³)\n",
       "Timestamp                    \n",
       "29-02-2024 19:00   188.498352\n",
       "29-02-2024 20:00   248.066549\n",
       "29-02-2024 21:00   267.094867\n",
       "29-02-2024 22:00   306.610141\n",
       "29-02-2024 23:00   191.358142"
      ]
     },
     "execution_count": 305,
     "metadata": {},
     "output_type": "execute_result"
    }
   ],
   "source": [
    "df3.tail()"
   ]
  },
  {
   "cell_type": "code",
   "execution_count": 306,
   "id": "461e200f-674e-42bd-b5f4-18b24855f8f5",
   "metadata": {},
   "outputs": [
    {
     "data": {
      "text/html": [
       "<div>\n",
       "<style scoped>\n",
       "    .dataframe tbody tr th:only-of-type {\n",
       "        vertical-align: middle;\n",
       "    }\n",
       "\n",
       "    .dataframe tbody tr th {\n",
       "        vertical-align: top;\n",
       "    }\n",
       "\n",
       "    .dataframe thead th {\n",
       "        text-align: right;\n",
       "    }\n",
       "</style>\n",
       "<table border=\"1\" class=\"dataframe\">\n",
       "  <thead>\n",
       "    <tr style=\"text-align: right;\">\n",
       "      <th></th>\n",
       "      <th>PM10(μg/m³)</th>\n",
       "    </tr>\n",
       "  </thead>\n",
       "  <tbody>\n",
       "    <tr>\n",
       "      <th>count</th>\n",
       "      <td>1440.000000</td>\n",
       "    </tr>\n",
       "    <tr>\n",
       "      <th>mean</th>\n",
       "      <td>251.295801</td>\n",
       "    </tr>\n",
       "    <tr>\n",
       "      <th>std</th>\n",
       "      <td>54.586633</td>\n",
       "    </tr>\n",
       "    <tr>\n",
       "      <th>min</th>\n",
       "      <td>79.937820</td>\n",
       "    </tr>\n",
       "    <tr>\n",
       "      <th>25%</th>\n",
       "      <td>214.196144</td>\n",
       "    </tr>\n",
       "    <tr>\n",
       "      <th>50%</th>\n",
       "      <td>249.434321</td>\n",
       "    </tr>\n",
       "    <tr>\n",
       "      <th>75%</th>\n",
       "      <td>288.507064</td>\n",
       "    </tr>\n",
       "    <tr>\n",
       "      <th>max</th>\n",
       "      <td>428.661446</td>\n",
       "    </tr>\n",
       "  </tbody>\n",
       "</table>\n",
       "</div>"
      ],
      "text/plain": [
       "       PM10(μg/m³)\n",
       "count  1440.000000\n",
       "mean    251.295801\n",
       "std      54.586633\n",
       "min      79.937820\n",
       "25%     214.196144\n",
       "50%     249.434321\n",
       "75%     288.507064\n",
       "max     428.661446"
      ]
     },
     "execution_count": 306,
     "metadata": {},
     "output_type": "execute_result"
    }
   ],
   "source": [
    "df3.describe()"
   ]
  },
  {
   "cell_type": "code",
   "execution_count": 307,
   "id": "85e9e8ba-e434-4189-a120-4ad86a62492f",
   "metadata": {},
   "outputs": [
    {
     "data": {
      "text/plain": [
       "<Axes: xlabel='Timestamp'>"
      ]
     },
     "execution_count": 307,
     "metadata": {},
     "output_type": "execute_result"
    },
    {
     "data": {
      "image/png": "[encoded data removed]",
      "text/plain": [
       "<Figure size 640x480 with 1 Axes>"
      ]
     },
     "metadata": {},
     "output_type": "display_data"
    }
   ],
   "source": [
    "df3.plot()"
   ]
  },
  {
   "cell_type": "code",
   "execution_count": 308,
   "id": "5db4edae-7273-4d37-9993-4a76493ebea6",
   "metadata": {},
   "outputs": [],
   "source": [
    "df3_mean= df3.rolling(window= 30).mean()"
   ]
  },
  {
   "cell_type": "code",
   "execution_count": 309,
   "id": "7d60eba8-9e68-4096-857a-2286fc2d99d3",
   "metadata": {},
   "outputs": [
    {
     "name": "stdout",
     "output_type": "stream",
     "text": [
      "****************************************\n"
     ]
    },
    {
     "data": {
      "text/plain": [
       "<Axes: xlabel='Timestamp'>"
      ]
     },
     "execution_count": 309,
     "metadata": {},
     "output_type": "execute_result"
    },
    {
     "data": {
      "image/png": "[encoded data removed]",
      "text/plain": [
       "<Figure size 640x480 with 1 Axes>"
      ]
     },
     "metadata": {},
     "output_type": "display_data"
    },
    {
     "data": {
      "image/png": "[encoded data removed]",
      "text/plain": [
       "<Figure size 640x480 with 1 Axes>"
      ]
     },
     "metadata": {},
     "output_type": "display_data"
    }
   ],
   "source": [
    "df3.plot()\n",
    "print('*'*40)\n",
    "df3_mean.plot()"
   ]
  },
  {
   "cell_type": "code",
   "execution_count": 310,
   "id": "06e7108e-278d-4555-a7ac-ce230a78ef2b",
   "metadata": {},
   "outputs": [],
   "source": [
    "value=pd.DataFrame(series_values)"
   ]
  },
  {
   "cell_type": "code",
   "execution_count": 311,
   "id": "dba15b9a-4b02-42b3-ab9e-f91b4e5924a3",
   "metadata": {},
   "outputs": [
    {
     "data": {
      "text/html": [
       "<div>\n",
       "<style scoped>\n",
       "    .dataframe tbody tr th:only-of-type {\n",
       "        vertical-align: middle;\n",
       "    }\n",
       "\n",
       "    .dataframe tbody tr th {\n",
       "        vertical-align: top;\n",
       "    }\n",
       "\n",
       "    .dataframe thead th {\n",
       "        text-align: right;\n",
       "    }\n",
       "</style>\n",
       "<table border=\"1\" class=\"dataframe\">\n",
       "  <thead>\n",
       "    <tr style=\"text-align: right;\">\n",
       "      <th></th>\n",
       "      <th>0</th>\n",
       "      <th>0</th>\n",
       "    </tr>\n",
       "  </thead>\n",
       "  <tbody>\n",
       "    <tr>\n",
       "      <th>0</th>\n",
       "      <td>337.626685</td>\n",
       "      <td>NaN</td>\n",
       "    </tr>\n",
       "    <tr>\n",
       "      <th>1</th>\n",
       "      <td>125.466573</td>\n",
       "      <td>337.626685</td>\n",
       "    </tr>\n",
       "    <tr>\n",
       "      <th>2</th>\n",
       "      <td>170.103418</td>\n",
       "      <td>125.466573</td>\n",
       "    </tr>\n",
       "    <tr>\n",
       "      <th>3</th>\n",
       "      <td>236.191337</td>\n",
       "      <td>170.103418</td>\n",
       "    </tr>\n",
       "    <tr>\n",
       "      <th>4</th>\n",
       "      <td>179.877096</td>\n",
       "      <td>236.191337</td>\n",
       "    </tr>\n",
       "  </tbody>\n",
       "</table>\n",
       "</div>"
      ],
      "text/plain": [
       "            0           0\n",
       "0  337.626685         NaN\n",
       "1  125.466573  337.626685\n",
       "2  170.103418  125.466573\n",
       "3  236.191337  170.103418\n",
       "4  179.877096  236.191337"
      ]
     },
     "execution_count": 311,
     "metadata": {},
     "output_type": "execute_result"
    }
   ],
   "source": [
    "pm_df= pd.concat([value, value.shift(1)], axis= 1)\n",
    "pm_df.head()"
   ]
  },
  {
   "cell_type": "code",
   "execution_count": 312,
   "id": "57cefc9e-10a7-4f31-bba7-6c1712412f4c",
   "metadata": {},
   "outputs": [
    {
     "data": {
      "text/html": [
       "<div>\n",
       "<style scoped>\n",
       "    .dataframe tbody tr th:only-of-type {\n",
       "        vertical-align: middle;\n",
       "    }\n",
       "\n",
       "    .dataframe tbody tr th {\n",
       "        vertical-align: top;\n",
       "    }\n",
       "\n",
       "    .dataframe thead th {\n",
       "        text-align: right;\n",
       "    }\n",
       "</style>\n",
       "<table border=\"1\" class=\"dataframe\">\n",
       "  <thead>\n",
       "    <tr style=\"text-align: right;\">\n",
       "      <th></th>\n",
       "      <th>Actual_PM10</th>\n",
       "      <th>Forecast_PM10</th>\n",
       "    </tr>\n",
       "  </thead>\n",
       "  <tbody>\n",
       "    <tr>\n",
       "      <th>0</th>\n",
       "      <td>337.626685</td>\n",
       "      <td>NaN</td>\n",
       "    </tr>\n",
       "    <tr>\n",
       "      <th>1</th>\n",
       "      <td>125.466573</td>\n",
       "      <td>337.626685</td>\n",
       "    </tr>\n",
       "    <tr>\n",
       "      <th>2</th>\n",
       "      <td>170.103418</td>\n",
       "      <td>125.466573</td>\n",
       "    </tr>\n",
       "    <tr>\n",
       "      <th>3</th>\n",
       "      <td>236.191337</td>\n",
       "      <td>170.103418</td>\n",
       "    </tr>\n",
       "    <tr>\n",
       "      <th>4</th>\n",
       "      <td>179.877096</td>\n",
       "      <td>236.191337</td>\n",
       "    </tr>\n",
       "  </tbody>\n",
       "</table>\n",
       "</div>"
      ],
      "text/plain": [
       "   Actual_PM10  Forecast_PM10\n",
       "0   337.626685            NaN\n",
       "1   125.466573     337.626685\n",
       "2   170.103418     125.466573\n",
       "3   236.191337     170.103418\n",
       "4   179.877096     236.191337"
      ]
     },
     "execution_count": 312,
     "metadata": {},
     "output_type": "execute_result"
    }
   ],
   "source": [
    "pm_df.columns= ['Actual_PM10', 'Forecast_PM10']\n",
    "pm_df.head()"
   ]
  },
  {
   "cell_type": "markdown",
   "id": "1bc2bbb0-3219-4a7b-b771-fcebb9dddbed",
   "metadata": {},
   "source": [
    "### find Error"
   ]
  },
  {
   "cell_type": "code",
   "execution_count": 313,
   "id": "d5fc6501-2332-4b8f-85bf-49d30ae9f31d",
   "metadata": {},
   "outputs": [],
   "source": [
    "from sklearn.metrics import mean_squared_error\n"
   ]
  },
  {
   "cell_type": "code",
   "execution_count": 314,
   "id": "b76c5d24-f0dd-4584-a023-f4409d9b48df",
   "metadata": {},
   "outputs": [
    {
     "data": {
      "text/html": [
       "<div>\n",
       "<style scoped>\n",
       "    .dataframe tbody tr th:only-of-type {\n",
       "        vertical-align: middle;\n",
       "    }\n",
       "\n",
       "    .dataframe tbody tr th {\n",
       "        vertical-align: top;\n",
       "    }\n",
       "\n",
       "    .dataframe thead th {\n",
       "        text-align: right;\n",
       "    }\n",
       "</style>\n",
       "<table border=\"1\" class=\"dataframe\">\n",
       "  <thead>\n",
       "    <tr style=\"text-align: right;\">\n",
       "      <th></th>\n",
       "      <th>Actual_PM10</th>\n",
       "      <th>Forecast_PM10</th>\n",
       "    </tr>\n",
       "  </thead>\n",
       "  <tbody>\n",
       "    <tr>\n",
       "      <th>1435</th>\n",
       "      <td>188.498352</td>\n",
       "      <td>307.166993</td>\n",
       "    </tr>\n",
       "    <tr>\n",
       "      <th>1436</th>\n",
       "      <td>248.066549</td>\n",
       "      <td>188.498352</td>\n",
       "    </tr>\n",
       "    <tr>\n",
       "      <th>1437</th>\n",
       "      <td>267.094867</td>\n",
       "      <td>248.066549</td>\n",
       "    </tr>\n",
       "    <tr>\n",
       "      <th>1438</th>\n",
       "      <td>306.610141</td>\n",
       "      <td>267.094867</td>\n",
       "    </tr>\n",
       "    <tr>\n",
       "      <th>1439</th>\n",
       "      <td>191.358142</td>\n",
       "      <td>306.610141</td>\n",
       "    </tr>\n",
       "  </tbody>\n",
       "</table>\n",
       "</div>"
      ],
      "text/plain": [
       "      Actual_PM10  Forecast_PM10\n",
       "1435   188.498352     307.166993\n",
       "1436   248.066549     188.498352\n",
       "1437   267.094867     248.066549\n",
       "1438   306.610141     267.094867\n",
       "1439   191.358142     306.610141"
      ]
     },
     "execution_count": 314,
     "metadata": {},
     "output_type": "execute_result"
    }
   ],
   "source": [
    "pm_test=pm_df[1:]\n",
    "pm_test.tail()"
   ]
  },
  {
   "cell_type": "code",
   "execution_count": 315,
   "id": "a900ffa2-78f4-447e-8880-61bb61e5b2d5",
   "metadata": {},
   "outputs": [
    {
     "data": {
      "text/plain": [
       "np.float64(6117.829100697351)"
      ]
     },
     "execution_count": 315,
     "metadata": {},
     "output_type": "execute_result"
    }
   ],
   "source": [
    "pm_error= mean_squared_error(pm_test.Actual_PM10, pm_test.Forecast_PM10)\n",
    "pm_error"
   ]
  },
  {
   "cell_type": "code",
   "execution_count": 316,
   "id": "55ec4e0d-55ad-48a6-bc8f-dc529d8fcffa",
   "metadata": {},
   "outputs": [
    {
     "data": {
      "text/plain": [
       "np.float64(78.21655260043971)"
      ]
     },
     "execution_count": 316,
     "metadata": {},
     "output_type": "execute_result"
    }
   ],
   "source": [
    "np.sqrt(pm_error)"
   ]
  },
  {
   "cell_type": "raw",
   "id": "319f9e0a-bfb0-4d83-94bc-fbab515da16b",
   "metadata": {},
   "source": [
    "ARIMA - Autoregressive(p) Integrated (d) Moving Average(q)"
   ]
  },
  {
   "cell_type": "code",
   "execution_count": 317,
   "id": "6db78741-a898-41fc-b7a9-32a234a465d6",
   "metadata": {},
   "outputs": [],
   "source": [
    "from statsmodels.graphics.tsaplots import plot_acf, plot_pacf     \n",
    "# import statsmodels.api as sm\n",
    "# from statsmodels.tsa.arima.model import ARIMA\n",
    "# from pmdarima import auto_arima"
   ]
  },
  {
   "cell_type": "raw",
   "id": "8d520062-82ed-4d66-8986-803a55390df8",
   "metadata": {},
   "source": [
    "# Plot_acf is the identify paramet Q\n",
    "# ARIMA(p,d,q)"
   ]
  },
  {
   "cell_type": "code",
   "execution_count": 318,
   "id": "95fc666c-d4b1-4d2e-b401-8782a00279fb",
   "metadata": {},
   "outputs": [
    {
     "data": {
      "image/png": "[encoded data removed]",
      "text/plain": [
       "<Figure size 640x480 with 1 Axes>"
      ]
     },
     "execution_count": 318,
     "metadata": {},
     "output_type": "execute_result"
    },
    {
     "data": {
      "image/png": "[encoded data removed]",
      "text/plain": [
       "<Figure size 640x480 with 1 Axes>"
      ]
     },
     "metadata": {},
     "output_type": "display_data"
    }
   ],
   "source": [
    "plot_acf(df3)   #Q value"
   ]
  },
  {
   "cell_type": "code",
   "execution_count": 319,
   "id": "c188969c-3cf0-4a52-a30c-c7f3364ab1be",
   "metadata": {},
   "outputs": [
    {
     "data": {
      "image/png": "[encoded data removed]",
      "text/plain": [
       "<Figure size 640x480 with 1 Axes>"
      ]
     },
     "execution_count": 319,
     "metadata": {},
     "output_type": "execute_result"
    },
    {
     "data": {
      "image/png": "[encoded data removed]",
      "text/plain": [
       "<Figure size 640x480 with 1 Axes>"
      ]
     },
     "metadata": {},
     "output_type": "display_data"
    }
   ],
   "source": [
    "plot_pacf(df3)  # for identify the values of p"
   ]
  },
  {
   "cell_type": "code",
   "execution_count": 266,
   "id": "19325380-cb85-4515-98a4-b73f758758bf",
   "metadata": {},
   "outputs": [],
   "source": [
    " # then p =2,3 , d=0 , q= 2.3\n"
   ]
  },
  {
   "cell_type": "markdown",
   "id": "cf734071-c078-46d6-9133-465e4dc65d25",
   "metadata": {},
   "source": [
    "### Train & Test "
   ]
  },
  {
   "cell_type": "code",
   "execution_count": 320,
   "id": "59597e44-7199-4262-ae28-abbe026f3c2a",
   "metadata": {},
   "outputs": [],
   "source": [
    "pm_train= df3[0:1152]\n",
    "pm_test= df3[1152:1440]"
   ]
  },
  {
   "cell_type": "code",
   "execution_count": 321,
   "id": "43c8df03-afec-47be-b2d4-6928968d8fad",
   "metadata": {},
   "outputs": [
    {
     "name": "stdout",
     "output_type": "stream",
     "text": [
      "1152\n",
      "********************\n"
     ]
    },
    {
     "data": {
      "text/plain": [
       "288"
      ]
     },
     "execution_count": 321,
     "metadata": {},
     "output_type": "execute_result"
    }
   ],
   "source": [
    "print(pm_train.size)\n",
    "print('*'*20)\n",
    "pm_test.size"
   ]
  },
  {
   "cell_type": "code",
   "execution_count": 322,
   "id": "ac7e3191-a561-4243-bf64-5621330f23d9",
   "metadata": {},
   "outputs": [],
   "source": [
    "from statsmodels.tsa.arima_model import ARIMA"
   ]
  },
  {
   "cell_type": "code",
   "execution_count": 323,
   "id": "6d86d5bf-9c80-4e69-9f69-0485664df8ac",
   "metadata": {},
   "outputs": [
    {
     "data": {
      "text/plain": [
       "0      2024-01-01 00:00:00\n",
       "1      2024-01-01 01:00:00\n",
       "2      2024-01-01 02:00:00\n",
       "3      2024-01-01 03:00:00\n",
       "4      2024-01-01 04:00:00\n",
       "               ...        \n",
       "1435   2024-02-29 19:00:00\n",
       "1436   2024-02-29 20:00:00\n",
       "1437   2024-02-29 21:00:00\n",
       "1438   2024-02-29 22:00:00\n",
       "1439   2024-02-29 23:00:00\n",
       "Name: date, Length: 1440, dtype: datetime64[ns]"
      ]
     },
     "execution_count": 323,
     "metadata": {},
     "output_type": "execute_result"
    }
   ],
   "source": [
    "df['date'] = pd.to_datetime(df['Timestamp'], format='mixed', dayfirst=True)\n",
    "df['date']"
   ]
  },
  {
   "cell_type": "code",
   "execution_count": 324,
   "id": "db674c46-dc73-423b-aefe-61abf5714c42",
   "metadata": {},
   "outputs": [],
   "source": [
    "from statsmodels.tsa.arima.model import ARIMA\n"
   ]
  },
  {
   "cell_type": "code",
   "execution_count": 325,
   "id": "e1e14e3b-4927-4c03-abe3-f338f83be3b8",
   "metadata": {},
   "outputs": [
    {
     "name": "stdout",
     "output_type": "stream",
     "text": [
      "1152    251.589144\n",
      "1153    251.543830\n",
      "1154    251.544295\n",
      "1155    251.544291\n",
      "1156    251.544291\n",
      "1157    251.544291\n",
      "1158    251.544291\n",
      "1159    251.544291\n",
      "1160    251.544291\n",
      "1161    251.544291\n",
      "1162    251.544291\n",
      "1163    251.544291\n",
      "1164    251.544291\n",
      "1165    251.544291\n",
      "1166    251.544291\n",
      "1167    251.544291\n",
      "1168    251.544291\n",
      "1169    251.544291\n",
      "1170    251.544291\n",
      "1171    251.544291\n",
      "1172    251.544291\n",
      "1173    251.544291\n",
      "1174    251.544291\n",
      "1175    251.544291\n",
      "1176    251.544291\n",
      "1177    251.544291\n",
      "1178    251.544291\n",
      "1179    251.544291\n",
      "1180    251.544291\n",
      "1181    251.544291\n",
      "1182    251.544291\n",
      "1183    251.544291\n",
      "1184    251.544291\n",
      "1185    251.544291\n",
      "1186    251.544291\n",
      "1187    251.544291\n",
      "1188    251.544291\n",
      "1189    251.544291\n",
      "1190    251.544291\n",
      "Name: predicted_mean, dtype: float64\n"
     ]
    }
   ],
   "source": [
    "# Fit ARIMA model (for example, ARIMA(1, 1, 1))\n",
    "model = ARIMA(pm_train, order=(1, 1, 1))\n",
    "model_fit = model.fit()\n",
    "\n",
    "# Make a forecast\n",
    "forecast = model_fit.forecast(steps=39)\n",
    "print(forecast)"
   ]
  },
  {
   "cell_type": "code",
   "execution_count": 326,
   "id": "a032a4b7-3897-4834-b0f3-f8cc8f055acf",
   "metadata": {},
   "outputs": [
    {
     "name": "stdout",
     "output_type": "stream",
     "text": [
      "1152    258.663892\n",
      "1153    250.457860\n",
      "1154    248.304841\n",
      "1155    245.056377\n",
      "1156    253.714673\n",
      "1157    250.271377\n",
      "1158    244.478605\n",
      "1159    260.810938\n",
      "1160    247.365590\n",
      "1161    255.484674\n",
      "1162    253.320421\n",
      "1163    236.433430\n",
      "1164    255.935352\n",
      "1165    249.968874\n",
      "1166    247.365630\n",
      "1167    244.238535\n",
      "1168    252.256083\n",
      "1169    250.752969\n",
      "1170    246.318595\n",
      "1171    260.090227\n",
      "1172    249.274385\n",
      "1173    250.388284\n",
      "1174    252.326639\n",
      "1175    236.808113\n",
      "1176    256.000877\n",
      "1177    249.948030\n",
      "1178    247.362149\n",
      "1179    244.230372\n",
      "1180    252.272632\n",
      "1181    250.694694\n",
      "1182    246.207932\n",
      "1183    260.078319\n",
      "1184    249.161068\n",
      "1185    250.545126\n",
      "1186    252.325262\n",
      "1187    236.753961\n",
      "1188    255.958647\n",
      "1189    249.909131\n",
      "1190    247.322580\n",
      "Name: predicted_mean, dtype: float64\n"
     ]
    }
   ],
   "source": [
    "from statsmodels.tsa.statespace.sarimax import SARIMAX\n",
    "\n",
    "# Fit SARIMAX model (for example, SARIMAX(1, 1, 1, seasonal_order=(1, 1, 1, 12)))\n",
    "model = SARIMAX(pm_train, order=(1, 1, 1), seasonal_order=(1, 1, 1, 12))\n",
    "model_fit = model.fit()\n",
    "\n",
    "# Make a forecast\n",
    "forecast = model_fit.forecast(steps=39)\n",
    "print(forecast)\n"
   ]
  },
  {
   "cell_type": "code",
   "execution_count": 327,
   "id": "b3a5f7d2-d181-4ae8-ba99-c312210dd746",
   "metadata": {},
   "outputs": [
    {
     "data": {
      "text/plain": [
       "np.float64(12395.694770267959)"
      ]
     },
     "execution_count": 327,
     "metadata": {},
     "output_type": "execute_result"
    }
   ],
   "source": [
    "model_fit.aic"
   ]
  },
  {
   "cell_type": "code",
   "execution_count": 328,
   "id": "48b215d5-8130-4827-866b-d3b119c1636f",
   "metadata": {},
   "outputs": [
    {
     "data": {
      "text/plain": [
       "1152    258.663892\n",
       "1153    250.457860\n",
       "1154    248.304841\n",
       "1155    245.056377\n",
       "1156    253.714673\n",
       "1157    250.271377\n",
       "1158    244.478605\n",
       "1159    260.810938\n",
       "1160    247.365590\n",
       "1161    255.484674\n",
       "1162    253.320421\n",
       "1163    236.433430\n",
       "1164    255.935352\n",
       "1165    249.968874\n",
       "1166    247.365630\n",
       "1167    244.238535\n",
       "1168    252.256083\n",
       "1169    250.752969\n",
       "1170    246.318595\n",
       "1171    260.090227\n",
       "1172    249.274385\n",
       "1173    250.388284\n",
       "1174    252.326639\n",
       "1175    236.808113\n",
       "1176    256.000877\n",
       "1177    249.948030\n",
       "1178    247.362149\n",
       "1179    244.230372\n",
       "1180    252.272632\n",
       "1181    250.694694\n",
       "1182    246.207932\n",
       "1183    260.078319\n",
       "1184    249.161068\n",
       "1185    250.545126\n",
       "1186    252.325262\n",
       "1187    236.753961\n",
       "1188    255.958647\n",
       "1189    249.909131\n",
       "1190    247.322580\n",
       "Name: predicted_mean, dtype: float64"
      ]
     },
     "execution_count": 328,
     "metadata": {},
     "output_type": "execute_result"
    }
   ],
   "source": [
    "forecast"
   ]
  },
  {
   "cell_type": "raw",
   "id": "8b01ffd4-284c-4525-a9f3-48eee74ce867",
   "metadata": {},
   "source": [
    "np.sqrt(mean_squared_error[pm_test, forecast])"
   ]
  },
  {
   "cell_type": "code",
   "execution_count": 329,
   "id": "b1f40c9f-e21a-46fc-ab55-165129c994bd",
   "metadata": {},
   "outputs": [
    {
     "data": {
      "text/html": [
       "<div>\n",
       "<style scoped>\n",
       "    .dataframe tbody tr th:only-of-type {\n",
       "        vertical-align: middle;\n",
       "    }\n",
       "\n",
       "    .dataframe tbody tr th {\n",
       "        vertical-align: top;\n",
       "    }\n",
       "\n",
       "    .dataframe thead th {\n",
       "        text-align: right;\n",
       "    }\n",
       "</style>\n",
       "<table border=\"1\" class=\"dataframe\">\n",
       "  <thead>\n",
       "    <tr style=\"text-align: right;\">\n",
       "      <th></th>\n",
       "      <th>PM10(μg/m³)</th>\n",
       "    </tr>\n",
       "    <tr>\n",
       "      <th>Timestamp</th>\n",
       "      <th></th>\n",
       "    </tr>\n",
       "  </thead>\n",
       "  <tbody>\n",
       "    <tr>\n",
       "      <th>01-01-2024 00:00</th>\n",
       "      <td>337.626685</td>\n",
       "    </tr>\n",
       "    <tr>\n",
       "      <th>01-01-2024 01:00</th>\n",
       "      <td>125.466573</td>\n",
       "    </tr>\n",
       "    <tr>\n",
       "      <th>01-01-2024 02:00</th>\n",
       "      <td>170.103418</td>\n",
       "    </tr>\n",
       "    <tr>\n",
       "      <th>01-01-2024 03:00</th>\n",
       "      <td>236.191337</td>\n",
       "    </tr>\n",
       "    <tr>\n",
       "      <th>01-01-2024 04:00</th>\n",
       "      <td>179.877096</td>\n",
       "    </tr>\n",
       "    <tr>\n",
       "      <th>...</th>\n",
       "      <td>...</td>\n",
       "    </tr>\n",
       "    <tr>\n",
       "      <th>29-02-2024 19:00</th>\n",
       "      <td>188.498352</td>\n",
       "    </tr>\n",
       "    <tr>\n",
       "      <th>29-02-2024 20:00</th>\n",
       "      <td>248.066549</td>\n",
       "    </tr>\n",
       "    <tr>\n",
       "      <th>29-02-2024 21:00</th>\n",
       "      <td>267.094867</td>\n",
       "    </tr>\n",
       "    <tr>\n",
       "      <th>29-02-2024 22:00</th>\n",
       "      <td>306.610141</td>\n",
       "    </tr>\n",
       "    <tr>\n",
       "      <th>29-02-2024 23:00</th>\n",
       "      <td>191.358142</td>\n",
       "    </tr>\n",
       "  </tbody>\n",
       "</table>\n",
       "<p>1440 rows × 1 columns</p>\n",
       "</div>"
      ],
      "text/plain": [
       "                  PM10(μg/m³)\n",
       "Timestamp                    \n",
       "01-01-2024 00:00   337.626685\n",
       "01-01-2024 01:00   125.466573\n",
       "01-01-2024 02:00   170.103418\n",
       "01-01-2024 03:00   236.191337\n",
       "01-01-2024 04:00   179.877096\n",
       "...                       ...\n",
       "29-02-2024 19:00   188.498352\n",
       "29-02-2024 20:00   248.066549\n",
       "29-02-2024 21:00   267.094867\n",
       "29-02-2024 22:00   306.610141\n",
       "29-02-2024 23:00   191.358142\n",
       "\n",
       "[1440 rows x 1 columns]"
      ]
     },
     "execution_count": 329,
     "metadata": {},
     "output_type": "execute_result"
    }
   ],
   "source": [
    "df3"
   ]
  },
  {
   "cell_type": "markdown",
   "id": "f392001e-ca9e-438b-882d-1206e5846226",
   "metadata": {},
   "source": [
    "### Normalization "
   ]
  },
  {
   "cell_type": "code",
   "execution_count": 330,
   "id": "a83b9e32-3c75-4583-94b0-79e21cc3ac07",
   "metadata": {},
   "outputs": [
    {
     "data": {
      "text/plain": [
       "PM10(μg/m³)    79.93782\n",
       "dtype: float64"
      ]
     },
     "execution_count": 330,
     "metadata": {},
     "output_type": "execute_result"
    }
   ],
   "source": [
    "df3.min()"
   ]
  },
  {
   "cell_type": "code",
   "execution_count": 331,
   "id": "d87e73ac-fd92-455d-8734-4d5faf9e64a6",
   "metadata": {},
   "outputs": [
    {
     "data": {
      "text/plain": [
       "PM10(μg/m³)    428.661446\n",
       "dtype: float64"
      ]
     },
     "execution_count": 331,
     "metadata": {},
     "output_type": "execute_result"
    }
   ],
   "source": [
    "df3.max()"
   ]
  },
  {
   "cell_type": "code",
   "execution_count": 332,
   "id": "3ce59d68-dd49-4742-b0dc-c212ae400010",
   "metadata": {},
   "outputs": [],
   "source": [
    "from sklearn.preprocessing import MinMaxScaler"
   ]
  },
  {
   "cell_type": "code",
   "execution_count": 333,
   "id": "ad9a83ee-71f4-4236-a63e-adc44c7daaa5",
   "metadata": {},
   "outputs": [
    {
     "data": {
      "text/plain": [
       "array([[337.6266853],\n",
       "       [125.4665727],\n",
       "       [170.1034179],\n",
       "       ...,\n",
       "       [267.094867 ],\n",
       "       [306.610141 ],\n",
       "       [191.3581417]])"
      ]
     },
     "execution_count": 333,
     "metadata": {},
     "output_type": "execute_result"
    }
   ],
   "source": [
    "pm_arr= df3.values\n",
    "pm_arr"
   ]
  },
  {
   "cell_type": "code",
   "execution_count": 334,
   "id": "046701b8-1c9a-48ba-8a7c-116cc5bfdedf",
   "metadata": {},
   "outputs": [],
   "source": [
    "scaler= MinMaxScaler(feature_range=(0,1))\n",
    "scaler= scaler.fit(pm_arr)\n"
   ]
  },
  {
   "cell_type": "code",
   "execution_count": 335,
   "id": "527272e1-d728-4008-a85e-21c1a6a5a8fc",
   "metadata": {},
   "outputs": [
    {
     "data": {
      "text/plain": [
       "array([348.72362502])"
      ]
     },
     "execution_count": 335,
     "metadata": {},
     "output_type": "execute_result"
    }
   ],
   "source": [
    "scaler.data_range_"
   ]
  },
  {
   "cell_type": "code",
   "execution_count": 336,
   "id": "1674d95e-dabd-426f-a38d-3638266a643e",
   "metadata": {},
   "outputs": [
    {
     "data": {
      "text/plain": [
       "array([0.73894869])"
      ]
     },
     "execution_count": 336,
     "metadata": {},
     "output_type": "execute_result"
    }
   ],
   "source": [
    "pm_normalize= scaler.transform(pm_arr)\n",
    "pm_normalize[0]"
   ]
  },
  {
   "cell_type": "code",
   "execution_count": 337,
   "id": "2a8ce9e0-45c1-4a1a-81c9-3066e87943e6",
   "metadata": {},
   "outputs": [
    {
     "data": {
      "text/plain": [
       "array([0.13055827])"
      ]
     },
     "execution_count": 337,
     "metadata": {},
     "output_type": "execute_result"
    }
   ],
   "source": [
    "pm_normalize[1]"
   ]
  },
  {
   "cell_type": "code",
   "execution_count": 338,
   "id": "6413d396-9718-437a-bbcf-5f45c2dfd479",
   "metadata": {},
   "outputs": [
    {
     "name": "stdout",
     "output_type": "stream",
     "text": [
      "[0.73894869]\n",
      "[0.13055827]\n",
      "[0.2585589]\n",
      "[0.44807264]\n",
      "[0.28658591]\n"
     ]
    }
   ],
   "source": [
    "for i in range(5):\n",
    "    print(pm_normalize[i])"
   ]
  },
  {
   "cell_type": "code",
   "execution_count": 339,
   "id": "5e7e0df9-668e-4eb3-8d44-532936b803d6",
   "metadata": {},
   "outputs": [],
   "source": [
    "pm_train_normalize=pm_normalize[0:1152]\n",
    "pm_test_normalize=pm_normalize[1152:1440]"
   ]
  },
  {
   "cell_type": "code",
   "execution_count": 340,
   "id": "51833d43-413d-44ae-9ab5-918ee4cbd75a",
   "metadata": {},
   "outputs": [
    {
     "data": {
      "text/plain": [
       "1152"
      ]
     },
     "execution_count": 340,
     "metadata": {},
     "output_type": "execute_result"
    }
   ],
   "source": [
    "pm_train.size"
   ]
  },
  {
   "cell_type": "code",
   "execution_count": 341,
   "id": "10342676-8b7c-4a2b-8be3-36a19ed168af",
   "metadata": {},
   "outputs": [
    {
     "data": {
      "text/plain": [
       "288"
      ]
     },
     "execution_count": 341,
     "metadata": {},
     "output_type": "execute_result"
    }
   ],
   "source": [
    "pm_test.size"
   ]
  },
  {
   "cell_type": "code",
   "execution_count": 342,
   "id": "242b4566-823f-4415-a602-41041db3c08d",
   "metadata": {},
   "outputs": [
    {
     "name": "stdout",
     "output_type": "stream",
     "text": [
      "[0.49223306 0.49210377 0.49210509 0.49210508 0.49210508 0.49210508\n",
      " 0.49210508 0.49210508 0.49210508 0.49210508 0.49210508 0.49210508\n",
      " 0.49210508 0.49210508 0.49210508 0.49210508 0.49210508 0.49210508\n",
      " 0.49210508 0.49210508 0.49210508 0.49210508 0.49210508 0.49210508\n",
      " 0.49210508 0.49210508 0.49210508 0.49210508 0.49210508 0.49210508\n",
      " 0.49210508 0.49210508 0.49210508 0.49210508 0.49210508 0.49210508\n",
      " 0.49210508 0.49210508 0.49210508]\n"
     ]
    }
   ],
   "source": [
    "model = ARIMA(pm_train_normalize, order=(1, 1, 1))\n",
    "model_fit = model.fit()\n",
    "\n",
    "# Make a forecast\n",
    "forecast = model_fit.forecast(steps=39)\n",
    "print(forecast)"
   ]
  },
  {
   "cell_type": "code",
   "execution_count": 343,
   "id": "509da237-83e6-4e17-a45a-1ba1a1de6b9d",
   "metadata": {},
   "outputs": [
    {
     "data": {
      "text/html": [
       "<div>\n",
       "<style scoped>\n",
       "    .dataframe tbody tr th:only-of-type {\n",
       "        vertical-align: middle;\n",
       "    }\n",
       "\n",
       "    .dataframe tbody tr th {\n",
       "        vertical-align: top;\n",
       "    }\n",
       "\n",
       "    .dataframe thead th {\n",
       "        text-align: right;\n",
       "    }\n",
       "</style>\n",
       "<table border=\"1\" class=\"dataframe\">\n",
       "  <thead>\n",
       "    <tr style=\"text-align: right;\">\n",
       "      <th></th>\n",
       "      <th>PM10(μg/m³)</th>\n",
       "    </tr>\n",
       "    <tr>\n",
       "      <th>Timestamp</th>\n",
       "      <th></th>\n",
       "    </tr>\n",
       "  </thead>\n",
       "  <tbody>\n",
       "    <tr>\n",
       "      <th>18-02-2024 00:00</th>\n",
       "      <td>229.748936</td>\n",
       "    </tr>\n",
       "    <tr>\n",
       "      <th>18-02-2024 01:00</th>\n",
       "      <td>231.581485</td>\n",
       "    </tr>\n",
       "    <tr>\n",
       "      <th>18-02-2024 02:00</th>\n",
       "      <td>119.737174</td>\n",
       "    </tr>\n",
       "    <tr>\n",
       "      <th>18-02-2024 03:00</th>\n",
       "      <td>275.544348</td>\n",
       "    </tr>\n",
       "    <tr>\n",
       "      <th>18-02-2024 04:00</th>\n",
       "      <td>293.253382</td>\n",
       "    </tr>\n",
       "    <tr>\n",
       "      <th>18-02-2024 05:00</th>\n",
       "      <td>306.714840</td>\n",
       "    </tr>\n",
       "    <tr>\n",
       "      <th>18-02-2024 06:00</th>\n",
       "      <td>286.170168</td>\n",
       "    </tr>\n",
       "    <tr>\n",
       "      <th>18-02-2024 07:00</th>\n",
       "      <td>242.673217</td>\n",
       "    </tr>\n",
       "    <tr>\n",
       "      <th>18-02-2024 08:00</th>\n",
       "      <td>220.334369</td>\n",
       "    </tr>\n",
       "    <tr>\n",
       "      <th>18-02-2024 09:00</th>\n",
       "      <td>251.933200</td>\n",
       "    </tr>\n",
       "    <tr>\n",
       "      <th>18-02-2024 10:00</th>\n",
       "      <td>302.399772</td>\n",
       "    </tr>\n",
       "    <tr>\n",
       "      <th>18-02-2024 11:00</th>\n",
       "      <td>158.903161</td>\n",
       "    </tr>\n",
       "    <tr>\n",
       "      <th>18-02-2024 12:00</th>\n",
       "      <td>248.189848</td>\n",
       "    </tr>\n",
       "    <tr>\n",
       "      <th>18-02-2024 13:00</th>\n",
       "      <td>324.213086</td>\n",
       "    </tr>\n",
       "    <tr>\n",
       "      <th>18-02-2024 14:00</th>\n",
       "      <td>129.918055</td>\n",
       "    </tr>\n",
       "    <tr>\n",
       "      <th>18-02-2024 15:00</th>\n",
       "      <td>215.729042</td>\n",
       "    </tr>\n",
       "    <tr>\n",
       "      <th>18-02-2024 16:00</th>\n",
       "      <td>314.358155</td>\n",
       "    </tr>\n",
       "    <tr>\n",
       "      <th>18-02-2024 17:00</th>\n",
       "      <td>205.750571</td>\n",
       "    </tr>\n",
       "    <tr>\n",
       "      <th>18-02-2024 18:00</th>\n",
       "      <td>243.623405</td>\n",
       "    </tr>\n",
       "    <tr>\n",
       "      <th>18-02-2024 19:00</th>\n",
       "      <td>270.959647</td>\n",
       "    </tr>\n",
       "    <tr>\n",
       "      <th>18-02-2024 20:00</th>\n",
       "      <td>259.529819</td>\n",
       "    </tr>\n",
       "    <tr>\n",
       "      <th>18-02-2024 21:00</th>\n",
       "      <td>231.143100</td>\n",
       "    </tr>\n",
       "    <tr>\n",
       "      <th>18-02-2024 22:00</th>\n",
       "      <td>219.042191</td>\n",
       "    </tr>\n",
       "    <tr>\n",
       "      <th>18-02-2024 23:00</th>\n",
       "      <td>316.710052</td>\n",
       "    </tr>\n",
       "    <tr>\n",
       "      <th>19-02-2024 00:00</th>\n",
       "      <td>330.008879</td>\n",
       "    </tr>\n",
       "    <tr>\n",
       "      <th>19-02-2024 01:00</th>\n",
       "      <td>226.024498</td>\n",
       "    </tr>\n",
       "    <tr>\n",
       "      <th>19-02-2024 02:00</th>\n",
       "      <td>132.835891</td>\n",
       "    </tr>\n",
       "    <tr>\n",
       "      <th>19-02-2024 03:00</th>\n",
       "      <td>230.747047</td>\n",
       "    </tr>\n",
       "    <tr>\n",
       "      <th>19-02-2024 04:00</th>\n",
       "      <td>237.750573</td>\n",
       "    </tr>\n",
       "    <tr>\n",
       "      <th>19-02-2024 05:00</th>\n",
       "      <td>263.943532</td>\n",
       "    </tr>\n",
       "    <tr>\n",
       "      <th>19-02-2024 06:00</th>\n",
       "      <td>214.878246</td>\n",
       "    </tr>\n",
       "    <tr>\n",
       "      <th>19-02-2024 07:00</th>\n",
       "      <td>210.643493</td>\n",
       "    </tr>\n",
       "    <tr>\n",
       "      <th>19-02-2024 08:00</th>\n",
       "      <td>249.149906</td>\n",
       "    </tr>\n",
       "    <tr>\n",
       "      <th>19-02-2024 09:00</th>\n",
       "      <td>258.316396</td>\n",
       "    </tr>\n",
       "    <tr>\n",
       "      <th>19-02-2024 10:00</th>\n",
       "      <td>196.341032</td>\n",
       "    </tr>\n",
       "    <tr>\n",
       "      <th>19-02-2024 11:00</th>\n",
       "      <td>231.199393</td>\n",
       "    </tr>\n",
       "    <tr>\n",
       "      <th>19-02-2024 12:00</th>\n",
       "      <td>428.661446</td>\n",
       "    </tr>\n",
       "    <tr>\n",
       "      <th>19-02-2024 13:00</th>\n",
       "      <td>292.937459</td>\n",
       "    </tr>\n",
       "    <tr>\n",
       "      <th>19-02-2024 14:00</th>\n",
       "      <td>233.016593</td>\n",
       "    </tr>\n",
       "  </tbody>\n",
       "</table>\n",
       "</div>"
      ],
      "text/plain": [
       "                  PM10(μg/m³)\n",
       "Timestamp                    \n",
       "18-02-2024 00:00   229.748936\n",
       "18-02-2024 01:00   231.581485\n",
       "18-02-2024 02:00   119.737174\n",
       "18-02-2024 03:00   275.544348\n",
       "18-02-2024 04:00   293.253382\n",
       "18-02-2024 05:00   306.714840\n",
       "18-02-2024 06:00   286.170168\n",
       "18-02-2024 07:00   242.673217\n",
       "18-02-2024 08:00   220.334369\n",
       "18-02-2024 09:00   251.933200\n",
       "18-02-2024 10:00   302.399772\n",
       "18-02-2024 11:00   158.903161\n",
       "18-02-2024 12:00   248.189848\n",
       "18-02-2024 13:00   324.213086\n",
       "18-02-2024 14:00   129.918055\n",
       "18-02-2024 15:00   215.729042\n",
       "18-02-2024 16:00   314.358155\n",
       "18-02-2024 17:00   205.750571\n",
       "18-02-2024 18:00   243.623405\n",
       "18-02-2024 19:00   270.959647\n",
       "18-02-2024 20:00   259.529819\n",
       "18-02-2024 21:00   231.143100\n",
       "18-02-2024 22:00   219.042191\n",
       "18-02-2024 23:00   316.710052\n",
       "19-02-2024 00:00   330.008879\n",
       "19-02-2024 01:00   226.024498\n",
       "19-02-2024 02:00   132.835891\n",
       "19-02-2024 03:00   230.747047\n",
       "19-02-2024 04:00   237.750573\n",
       "19-02-2024 05:00   263.943532\n",
       "19-02-2024 06:00   214.878246\n",
       "19-02-2024 07:00   210.643493\n",
       "19-02-2024 08:00   249.149906\n",
       "19-02-2024 09:00   258.316396\n",
       "19-02-2024 10:00   196.341032\n",
       "19-02-2024 11:00   231.199393\n",
       "19-02-2024 12:00   428.661446\n",
       "19-02-2024 13:00   292.937459\n",
       "19-02-2024 14:00   233.016593"
      ]
     },
     "execution_count": 343,
     "metadata": {},
     "output_type": "execute_result"
    }
   ],
   "source": [
    "pm_test[:39]"
   ]
  },
  {
   "cell_type": "code",
   "execution_count": 344,
   "id": "013c3c11-b48c-469b-af0f-cb744e6ee52c",
   "metadata": {},
   "outputs": [
    {
     "data": {
      "text/plain": [
       "np.float64(-1013.7935969185212)"
      ]
     },
     "execution_count": 344,
     "metadata": {},
     "output_type": "execute_result"
    }
   ],
   "source": [
    "model_fit.aic"
   ]
  },
  {
   "cell_type": "raw",
   "id": "b92968a4-4fc1-44ab-8cd4-969b87fc462f",
   "metadata": {},
   "source": [
    "errors= np.sqrt(mean_squared_error(pm_test_normalize, forecast))\n",
    "errors"
   ]
  },
  {
   "cell_type": "code",
   "execution_count": 345,
   "id": "f3e216c5-85ae-41c0-986a-b3e1b939cdd4",
   "metadata": {},
   "outputs": [],
   "source": [
    "forecast_reshape= forecast.reshape(len(forecast), 1)\n"
   ]
  },
  {
   "cell_type": "code",
   "execution_count": 346,
   "id": "e07b73ce-306d-4e87-8bd6-34e6c151d3ee",
   "metadata": {},
   "outputs": [
    {
     "data": {
      "text/plain": [
       "array([[251.59111727],\n",
       "       [251.54603181],\n",
       "       [251.54649246],\n",
       "       [251.54648775],\n",
       "       [251.5464878 ],\n",
       "       [251.5464878 ],\n",
       "       [251.5464878 ],\n",
       "       [251.5464878 ],\n",
       "       [251.5464878 ],\n",
       "       [251.5464878 ],\n",
       "       [251.5464878 ],\n",
       "       [251.5464878 ],\n",
       "       [251.5464878 ],\n",
       "       [251.5464878 ],\n",
       "       [251.5464878 ],\n",
       "       [251.5464878 ],\n",
       "       [251.5464878 ],\n",
       "       [251.5464878 ],\n",
       "       [251.5464878 ],\n",
       "       [251.5464878 ],\n",
       "       [251.5464878 ],\n",
       "       [251.5464878 ],\n",
       "       [251.5464878 ],\n",
       "       [251.5464878 ],\n",
       "       [251.5464878 ],\n",
       "       [251.5464878 ],\n",
       "       [251.5464878 ],\n",
       "       [251.5464878 ],\n",
       "       [251.5464878 ],\n",
       "       [251.5464878 ],\n",
       "       [251.5464878 ],\n",
       "       [251.5464878 ],\n",
       "       [251.5464878 ],\n",
       "       [251.5464878 ],\n",
       "       [251.5464878 ],\n",
       "       [251.5464878 ],\n",
       "       [251.5464878 ],\n",
       "       [251.5464878 ],\n",
       "       [251.5464878 ]])"
      ]
     },
     "execution_count": 346,
     "metadata": {},
     "output_type": "execute_result"
    }
   ],
   "source": [
    "forecast_reverse=scaler.inverse_transform(forecast_reshape)\n",
    "forecast_reverse"
   ]
  },
  {
   "cell_type": "code",
   "execution_count": null,
   "id": "0404f733-e24d-42b3-8e9a-f0a6df9497d1",
   "metadata": {},
   "outputs": [],
   "source": [
    "pm_test_reshape= pm_test.reshape(len(pm_test),1)\n",
    "pm_test_reverse=scaler.inverse_transform(pm_test_reshape)"
   ]
  },
  {
   "cell_type": "code",
   "execution_count": 348,
   "id": "71215176-51ed-4471-8ce0-65d2b550f684",
   "metadata": {},
   "outputs": [
    {
     "data": {
      "text/plain": [
       "np.float64(251.05551233983465)"
      ]
     },
     "execution_count": 348,
     "metadata": {},
     "output_type": "execute_result"
    }
   ],
   "source": [
    "errors= np.sqrt(mean_squared_error(forecast_reverse, forecast))\n",
    "errors"
   ]
  },
  {
   "cell_type": "markdown",
   "id": "ba84a128-1d7b-42bb-a65a-0d9855d75866",
   "metadata": {},
   "source": [
    "### Standarization"
   ]
  },
  {
   "cell_type": "code",
   "execution_count": 350,
   "id": "6dd6371e-2743-42f6-949b-8fea621eaa77",
   "metadata": {},
   "outputs": [],
   "source": [
    "from sklearn.preprocessing import StandardScaler"
   ]
  },
  {
   "cell_type": "code",
   "execution_count": 351,
   "id": "aaca2046-186c-4372-a704-d9a1f6e35a64",
   "metadata": {},
   "outputs": [],
   "source": [
    "std_scaler= StandardScaler()\n",
    "std_scaler= std_scaler.fit(pm_arr)"
   ]
  },
  {
   "cell_type": "code",
   "execution_count": 352,
   "id": "8ba48fec-3132-4478-a7e5-7e99dd3a274e",
   "metadata": {},
   "outputs": [
    {
     "data": {
      "text/plain": [
       "array([251.29580104])"
      ]
     },
     "execution_count": 352,
     "metadata": {},
     "output_type": "execute_result"
    }
   ],
   "source": [
    "std_scaler.mean_"
   ]
  },
  {
   "cell_type": "code",
   "execution_count": 353,
   "id": "dc3246e8-0a3f-4078-b9ea-9e033085f511",
   "metadata": {},
   "outputs": [
    {
     "data": {
      "text/plain": [
       "array([2977.63123762])"
      ]
     },
     "execution_count": 353,
     "metadata": {},
     "output_type": "execute_result"
    }
   ],
   "source": [
    "std_scaler.var_"
   ]
  },
  {
   "cell_type": "code",
   "execution_count": 354,
   "id": "1fcd5e69-b597-42db-9f40-a7fce7c15536",
   "metadata": {},
   "outputs": [
    {
     "data": {
      "text/plain": [
       "array([1.58208835])"
      ]
     },
     "execution_count": 354,
     "metadata": {},
     "output_type": "execute_result"
    }
   ],
   "source": [
    "std_pm= std_scaler.transform(pm_arr)\n",
    "std_pm[0]"
   ]
  },
  {
   "cell_type": "code",
   "execution_count": 355,
   "id": "ffbb4816-a256-45d5-b3d5-226d3accfe33",
   "metadata": {},
   "outputs": [
    {
     "name": "stdout",
     "output_type": "stream",
     "text": [
      "[1.58208835]\n",
      "[-2.30592978]\n",
      "[-1.48792086]\n",
      "[-0.27680241]\n",
      "[-1.30880973]\n"
     ]
    }
   ],
   "source": [
    "for i in range(5):\n",
    "    print(std_pm[i])"
   ]
  },
  {
   "cell_type": "code",
   "execution_count": 356,
   "id": "efe644cc-93d8-445e-8e3a-8e2958127c19",
   "metadata": {},
   "outputs": [],
   "source": [
    "std_pm_train=std_pm[0:1152]\n",
    "std_pm_test= std_pm[1152:1440]"
   ]
  },
  {
   "cell_type": "code",
   "execution_count": 357,
   "id": "18e9f3b1-3aac-4298-a8f5-fa95d082adf4",
   "metadata": {},
   "outputs": [
    {
     "name": "stdout",
     "output_type": "stream",
     "text": [
      "[0.00541543 0.00458552 0.00459403 0.00459394 0.00459395 0.00459395\n",
      " 0.00459395 0.00459395 0.00459395 0.00459395 0.00459395 0.00459395\n",
      " 0.00459395 0.00459395 0.00459395 0.00459395 0.00459395 0.00459395\n",
      " 0.00459395 0.00459395 0.00459395 0.00459395 0.00459395 0.00459395\n",
      " 0.00459395 0.00459395 0.00459395 0.00459395 0.00459395 0.00459395\n",
      " 0.00459395 0.00459395 0.00459395 0.00459395 0.00459395 0.00459395\n",
      " 0.00459395 0.00459395 0.00459395]\n"
     ]
    }
   ],
   "source": [
    "model = ARIMA(std_pm_train, order=(1, 1, 1))\n",
    "model_fit = model.fit()\n",
    "\n",
    "# Make a forecast\n",
    "forecast = model_fit.forecast(steps=39)\n",
    "print(forecast)"
   ]
  },
  {
   "cell_type": "code",
   "execution_count": 358,
   "id": "b5687d8c-fa19-410f-bf32-64e937f319ad",
   "metadata": {},
   "outputs": [
    {
     "data": {
      "text/plain": [
       "np.float64(3256.0435089278235)"
      ]
     },
     "execution_count": 358,
     "metadata": {},
     "output_type": "execute_result"
    }
   ],
   "source": [
    "model_fit.aic"
   ]
  },
  {
   "cell_type": "code",
   "execution_count": 359,
   "id": "1c59df5d-0e37-4c36-a38e-efa6947d3b01",
   "metadata": {},
   "outputs": [
    {
     "data": {
      "text/html": [
       "<div>\n",
       "<style scoped>\n",
       "    .dataframe tbody tr th:only-of-type {\n",
       "        vertical-align: middle;\n",
       "    }\n",
       "\n",
       "    .dataframe tbody tr th {\n",
       "        vertical-align: top;\n",
       "    }\n",
       "\n",
       "    .dataframe thead th {\n",
       "        text-align: right;\n",
       "    }\n",
       "</style>\n",
       "<table border=\"1\" class=\"dataframe\">\n",
       "  <thead>\n",
       "    <tr style=\"text-align: right;\">\n",
       "      <th></th>\n",
       "      <th>PM10(μg/m³)</th>\n",
       "    </tr>\n",
       "    <tr>\n",
       "      <th>Timestamp</th>\n",
       "      <th></th>\n",
       "    </tr>\n",
       "  </thead>\n",
       "  <tbody>\n",
       "    <tr>\n",
       "      <th>18-02-2024 00:00</th>\n",
       "      <td>229.748936</td>\n",
       "    </tr>\n",
       "    <tr>\n",
       "      <th>18-02-2024 01:00</th>\n",
       "      <td>231.581485</td>\n",
       "    </tr>\n",
       "    <tr>\n",
       "      <th>18-02-2024 02:00</th>\n",
       "      <td>119.737174</td>\n",
       "    </tr>\n",
       "    <tr>\n",
       "      <th>18-02-2024 03:00</th>\n",
       "      <td>275.544348</td>\n",
       "    </tr>\n",
       "    <tr>\n",
       "      <th>18-02-2024 04:00</th>\n",
       "      <td>293.253382</td>\n",
       "    </tr>\n",
       "    <tr>\n",
       "      <th>18-02-2024 05:00</th>\n",
       "      <td>306.714840</td>\n",
       "    </tr>\n",
       "    <tr>\n",
       "      <th>18-02-2024 06:00</th>\n",
       "      <td>286.170168</td>\n",
       "    </tr>\n",
       "    <tr>\n",
       "      <th>18-02-2024 07:00</th>\n",
       "      <td>242.673217</td>\n",
       "    </tr>\n",
       "    <tr>\n",
       "      <th>18-02-2024 08:00</th>\n",
       "      <td>220.334369</td>\n",
       "    </tr>\n",
       "    <tr>\n",
       "      <th>18-02-2024 09:00</th>\n",
       "      <td>251.933200</td>\n",
       "    </tr>\n",
       "    <tr>\n",
       "      <th>18-02-2024 10:00</th>\n",
       "      <td>302.399772</td>\n",
       "    </tr>\n",
       "    <tr>\n",
       "      <th>18-02-2024 11:00</th>\n",
       "      <td>158.903161</td>\n",
       "    </tr>\n",
       "    <tr>\n",
       "      <th>18-02-2024 12:00</th>\n",
       "      <td>248.189848</td>\n",
       "    </tr>\n",
       "    <tr>\n",
       "      <th>18-02-2024 13:00</th>\n",
       "      <td>324.213086</td>\n",
       "    </tr>\n",
       "    <tr>\n",
       "      <th>18-02-2024 14:00</th>\n",
       "      <td>129.918055</td>\n",
       "    </tr>\n",
       "    <tr>\n",
       "      <th>18-02-2024 15:00</th>\n",
       "      <td>215.729042</td>\n",
       "    </tr>\n",
       "    <tr>\n",
       "      <th>18-02-2024 16:00</th>\n",
       "      <td>314.358155</td>\n",
       "    </tr>\n",
       "    <tr>\n",
       "      <th>18-02-2024 17:00</th>\n",
       "      <td>205.750571</td>\n",
       "    </tr>\n",
       "    <tr>\n",
       "      <th>18-02-2024 18:00</th>\n",
       "      <td>243.623405</td>\n",
       "    </tr>\n",
       "    <tr>\n",
       "      <th>18-02-2024 19:00</th>\n",
       "      <td>270.959647</td>\n",
       "    </tr>\n",
       "    <tr>\n",
       "      <th>18-02-2024 20:00</th>\n",
       "      <td>259.529819</td>\n",
       "    </tr>\n",
       "    <tr>\n",
       "      <th>18-02-2024 21:00</th>\n",
       "      <td>231.143100</td>\n",
       "    </tr>\n",
       "    <tr>\n",
       "      <th>18-02-2024 22:00</th>\n",
       "      <td>219.042191</td>\n",
       "    </tr>\n",
       "    <tr>\n",
       "      <th>18-02-2024 23:00</th>\n",
       "      <td>316.710052</td>\n",
       "    </tr>\n",
       "    <tr>\n",
       "      <th>19-02-2024 00:00</th>\n",
       "      <td>330.008879</td>\n",
       "    </tr>\n",
       "    <tr>\n",
       "      <th>19-02-2024 01:00</th>\n",
       "      <td>226.024498</td>\n",
       "    </tr>\n",
       "    <tr>\n",
       "      <th>19-02-2024 02:00</th>\n",
       "      <td>132.835891</td>\n",
       "    </tr>\n",
       "    <tr>\n",
       "      <th>19-02-2024 03:00</th>\n",
       "      <td>230.747047</td>\n",
       "    </tr>\n",
       "    <tr>\n",
       "      <th>19-02-2024 04:00</th>\n",
       "      <td>237.750573</td>\n",
       "    </tr>\n",
       "    <tr>\n",
       "      <th>19-02-2024 05:00</th>\n",
       "      <td>263.943532</td>\n",
       "    </tr>\n",
       "    <tr>\n",
       "      <th>19-02-2024 06:00</th>\n",
       "      <td>214.878246</td>\n",
       "    </tr>\n",
       "    <tr>\n",
       "      <th>19-02-2024 07:00</th>\n",
       "      <td>210.643493</td>\n",
       "    </tr>\n",
       "    <tr>\n",
       "      <th>19-02-2024 08:00</th>\n",
       "      <td>249.149906</td>\n",
       "    </tr>\n",
       "    <tr>\n",
       "      <th>19-02-2024 09:00</th>\n",
       "      <td>258.316396</td>\n",
       "    </tr>\n",
       "    <tr>\n",
       "      <th>19-02-2024 10:00</th>\n",
       "      <td>196.341032</td>\n",
       "    </tr>\n",
       "    <tr>\n",
       "      <th>19-02-2024 11:00</th>\n",
       "      <td>231.199393</td>\n",
       "    </tr>\n",
       "    <tr>\n",
       "      <th>19-02-2024 12:00</th>\n",
       "      <td>428.661446</td>\n",
       "    </tr>\n",
       "    <tr>\n",
       "      <th>19-02-2024 13:00</th>\n",
       "      <td>292.937459</td>\n",
       "    </tr>\n",
       "    <tr>\n",
       "      <th>19-02-2024 14:00</th>\n",
       "      <td>233.016593</td>\n",
       "    </tr>\n",
       "  </tbody>\n",
       "</table>\n",
       "</div>"
      ],
      "text/plain": [
       "                  PM10(μg/m³)\n",
       "Timestamp                    \n",
       "18-02-2024 00:00   229.748936\n",
       "18-02-2024 01:00   231.581485\n",
       "18-02-2024 02:00   119.737174\n",
       "18-02-2024 03:00   275.544348\n",
       "18-02-2024 04:00   293.253382\n",
       "18-02-2024 05:00   306.714840\n",
       "18-02-2024 06:00   286.170168\n",
       "18-02-2024 07:00   242.673217\n",
       "18-02-2024 08:00   220.334369\n",
       "18-02-2024 09:00   251.933200\n",
       "18-02-2024 10:00   302.399772\n",
       "18-02-2024 11:00   158.903161\n",
       "18-02-2024 12:00   248.189848\n",
       "18-02-2024 13:00   324.213086\n",
       "18-02-2024 14:00   129.918055\n",
       "18-02-2024 15:00   215.729042\n",
       "18-02-2024 16:00   314.358155\n",
       "18-02-2024 17:00   205.750571\n",
       "18-02-2024 18:00   243.623405\n",
       "18-02-2024 19:00   270.959647\n",
       "18-02-2024 20:00   259.529819\n",
       "18-02-2024 21:00   231.143100\n",
       "18-02-2024 22:00   219.042191\n",
       "18-02-2024 23:00   316.710052\n",
       "19-02-2024 00:00   330.008879\n",
       "19-02-2024 01:00   226.024498\n",
       "19-02-2024 02:00   132.835891\n",
       "19-02-2024 03:00   230.747047\n",
       "19-02-2024 04:00   237.750573\n",
       "19-02-2024 05:00   263.943532\n",
       "19-02-2024 06:00   214.878246\n",
       "19-02-2024 07:00   210.643493\n",
       "19-02-2024 08:00   249.149906\n",
       "19-02-2024 09:00   258.316396\n",
       "19-02-2024 10:00   196.341032\n",
       "19-02-2024 11:00   231.199393\n",
       "19-02-2024 12:00   428.661446\n",
       "19-02-2024 13:00   292.937459\n",
       "19-02-2024 14:00   233.016593"
      ]
     },
     "execution_count": 359,
     "metadata": {},
     "output_type": "execute_result"
    }
   ],
   "source": [
    "pm_test[:39]"
   ]
  },
  {
   "cell_type": "code",
   "execution_count": 360,
   "id": "074c4eba-dbc6-4df1-8ebb-f87f69484c4d",
   "metadata": {},
   "outputs": [],
   "source": [
    "forecast_reshape= forecast.reshape(len(forecast), 1)\n",
    "forecast_reverse= std_scaler.inverse_transform(forecast_reshape)"
   ]
  },
  {
   "cell_type": "code",
   "execution_count": 361,
   "id": "ed4ce714-a74a-4d93-a4b5-28f9312161f9",
   "metadata": {},
   "outputs": [
    {
     "data": {
      "text/plain": [
       "array([[251.59130823],\n",
       "       [251.54602195],\n",
       "       [251.54648669],\n",
       "       [251.54648192],\n",
       "       [251.54648197],\n",
       "       [251.54648197],\n",
       "       [251.54648197],\n",
       "       [251.54648197],\n",
       "       [251.54648197],\n",
       "       [251.54648197],\n",
       "       [251.54648197],\n",
       "       [251.54648197],\n",
       "       [251.54648197],\n",
       "       [251.54648197],\n",
       "       [251.54648197],\n",
       "       [251.54648197],\n",
       "       [251.54648197],\n",
       "       [251.54648197],\n",
       "       [251.54648197],\n",
       "       [251.54648197],\n",
       "       [251.54648197],\n",
       "       [251.54648197],\n",
       "       [251.54648197],\n",
       "       [251.54648197],\n",
       "       [251.54648197],\n",
       "       [251.54648197],\n",
       "       [251.54648197],\n",
       "       [251.54648197],\n",
       "       [251.54648197],\n",
       "       [251.54648197],\n",
       "       [251.54648197],\n",
       "       [251.54648197],\n",
       "       [251.54648197],\n",
       "       [251.54648197],\n",
       "       [251.54648197],\n",
       "       [251.54648197],\n",
       "       [251.54648197],\n",
       "       [251.54648197],\n",
       "       [251.54648197]])"
      ]
     },
     "execution_count": 361,
     "metadata": {},
     "output_type": "execute_result"
    }
   ],
   "source": [
    "forecast_reverse"
   ]
  },
  {
   "cell_type": "code",
   "execution_count": 362,
   "id": "9432ed9b-8c6b-4368-ae5a-a59703ee6fdb",
   "metadata": {},
   "outputs": [],
   "source": [
    "pm_test_reshape= std_pm_test.reshape(len(std_pm_test), 1)\n"
   ]
  },
  {
   "cell_type": "code",
   "execution_count": 363,
   "id": "4d030ca6-d815-474c-958c-56b10a032153",
   "metadata": {},
   "outputs": [
    {
     "data": {
      "text/plain": [
       "array([[229.748936 ],\n",
       "       [231.5814846],\n",
       "       [119.7371736],\n",
       "       [275.5443476],\n",
       "       [293.2533817],\n",
       "       [306.7148405],\n",
       "       [286.1701677],\n",
       "       [242.6732171],\n",
       "       [220.3343693],\n",
       "       [251.9332002],\n",
       "       [302.3997716],\n",
       "       [158.9031609],\n",
       "       [248.189848 ],\n",
       "       [324.2130861],\n",
       "       [129.9180546],\n",
       "       [215.7290419],\n",
       "       [314.3581549],\n",
       "       [205.7505708],\n",
       "       [243.6234055],\n",
       "       [270.9596474],\n",
       "       [259.5298195],\n",
       "       [231.1431003],\n",
       "       [219.0421905],\n",
       "       [316.7100522],\n",
       "       [330.0088788],\n",
       "       [226.0244984],\n",
       "       [132.8358912],\n",
       "       [230.7470474],\n",
       "       [237.7505734],\n",
       "       [263.943532 ],\n",
       "       [214.8782461],\n",
       "       [210.6434933],\n",
       "       [249.1499058],\n",
       "       [258.3163958],\n",
       "       [196.3410324],\n",
       "       [231.1993932],\n",
       "       [428.6614455],\n",
       "       [292.9374587],\n",
       "       [233.0165934]])"
      ]
     },
     "execution_count": 363,
     "metadata": {},
     "output_type": "execute_result"
    }
   ],
   "source": [
    "pm_test_rev = std_scaler.inverse_transform(pm_test_reshape)\n",
    "pm_test_rev[:39]"
   ]
  },
  {
   "cell_type": "raw",
   "id": "3c3e26e3-1860-42fb-b917-4420c2acf583",
   "metadata": {},
   "source": [
    "errors= np.sqrt(mean_squared_error(pm_test_rev, forecast))\n",
    "errors"
   ]
  },
  {
   "cell_type": "markdown",
   "id": "77691052-ef87-4fa0-8e90-a4089aae2826",
   "metadata": {},
   "source": [
    "### Feature Engineering"
   ]
  },
  {
   "cell_type": "code",
   "execution_count": 365,
   "id": "e9ea44fa-81b4-47b4-885f-aada695aacc6",
   "metadata": {},
   "outputs": [
    {
     "data": {
      "text/html": [
       "<div>\n",
       "<style scoped>\n",
       "    .dataframe tbody tr th:only-of-type {\n",
       "        vertical-align: middle;\n",
       "    }\n",
       "\n",
       "    .dataframe tbody tr th {\n",
       "        vertical-align: top;\n",
       "    }\n",
       "\n",
       "    .dataframe thead th {\n",
       "        text-align: right;\n",
       "    }\n",
       "</style>\n",
       "<table border=\"1\" class=\"dataframe\">\n",
       "  <thead>\n",
       "    <tr style=\"text-align: right;\">\n",
       "      <th></th>\n",
       "      <th>PM10(μg/m³)</th>\n",
       "      <th>log1</th>\n",
       "    </tr>\n",
       "    <tr>\n",
       "      <th>Timestamp</th>\n",
       "      <th></th>\n",
       "      <th></th>\n",
       "    </tr>\n",
       "  </thead>\n",
       "  <tbody>\n",
       "    <tr>\n",
       "      <th>01-01-2024 00:00</th>\n",
       "      <td>337.626685</td>\n",
       "      <td>NaN</td>\n",
       "    </tr>\n",
       "    <tr>\n",
       "      <th>01-01-2024 01:00</th>\n",
       "      <td>125.466573</td>\n",
       "      <td>337.626685</td>\n",
       "    </tr>\n",
       "    <tr>\n",
       "      <th>01-01-2024 02:00</th>\n",
       "      <td>170.103418</td>\n",
       "      <td>125.466573</td>\n",
       "    </tr>\n",
       "    <tr>\n",
       "      <th>01-01-2024 03:00</th>\n",
       "      <td>236.191337</td>\n",
       "      <td>170.103418</td>\n",
       "    </tr>\n",
       "    <tr>\n",
       "      <th>01-01-2024 04:00</th>\n",
       "      <td>179.877096</td>\n",
       "      <td>236.191337</td>\n",
       "    </tr>\n",
       "  </tbody>\n",
       "</table>\n",
       "</div>"
      ],
      "text/plain": [
       "                  PM10(μg/m³)        log1\n",
       "Timestamp                                \n",
       "01-01-2024 00:00   337.626685         NaN\n",
       "01-01-2024 01:00   125.466573  337.626685\n",
       "01-01-2024 02:00   170.103418  125.466573\n",
       "01-01-2024 03:00   236.191337  170.103418\n",
       "01-01-2024 04:00   179.877096  236.191337"
      ]
     },
     "execution_count": 365,
     "metadata": {},
     "output_type": "execute_result"
    }
   ],
   "source": [
    "df3['log1']= df3['PM10(μg/m³)'].shift(1)\n",
    "df3.head()"
   ]
  },
  {
   "cell_type": "code",
   "execution_count": 366,
   "id": "09ae057a-490a-46ed-8626-5170af599d79",
   "metadata": {},
   "outputs": [
    {
     "data": {
      "text/html": [
       "<div>\n",
       "<style scoped>\n",
       "    .dataframe tbody tr th:only-of-type {\n",
       "        vertical-align: middle;\n",
       "    }\n",
       "\n",
       "    .dataframe tbody tr th {\n",
       "        vertical-align: top;\n",
       "    }\n",
       "\n",
       "    .dataframe thead th {\n",
       "        text-align: right;\n",
       "    }\n",
       "</style>\n",
       "<table border=\"1\" class=\"dataframe\">\n",
       "  <thead>\n",
       "    <tr style=\"text-align: right;\">\n",
       "      <th></th>\n",
       "      <th>PM10(μg/m³)</th>\n",
       "      <th>log1</th>\n",
       "      <th>log2</th>\n",
       "    </tr>\n",
       "    <tr>\n",
       "      <th>Timestamp</th>\n",
       "      <th></th>\n",
       "      <th></th>\n",
       "      <th></th>\n",
       "    </tr>\n",
       "  </thead>\n",
       "  <tbody>\n",
       "    <tr>\n",
       "      <th>01-01-2024 00:00</th>\n",
       "      <td>337.626685</td>\n",
       "      <td>NaN</td>\n",
       "      <td>NaN</td>\n",
       "    </tr>\n",
       "    <tr>\n",
       "      <th>01-01-2024 01:00</th>\n",
       "      <td>125.466573</td>\n",
       "      <td>337.626685</td>\n",
       "      <td>NaN</td>\n",
       "    </tr>\n",
       "    <tr>\n",
       "      <th>01-01-2024 02:00</th>\n",
       "      <td>170.103418</td>\n",
       "      <td>125.466573</td>\n",
       "      <td>337.626685</td>\n",
       "    </tr>\n",
       "    <tr>\n",
       "      <th>01-01-2024 03:00</th>\n",
       "      <td>236.191337</td>\n",
       "      <td>170.103418</td>\n",
       "      <td>125.466573</td>\n",
       "    </tr>\n",
       "    <tr>\n",
       "      <th>01-01-2024 04:00</th>\n",
       "      <td>179.877096</td>\n",
       "      <td>236.191337</td>\n",
       "      <td>170.103418</td>\n",
       "    </tr>\n",
       "  </tbody>\n",
       "</table>\n",
       "</div>"
      ],
      "text/plain": [
       "                  PM10(μg/m³)        log1        log2\n",
       "Timestamp                                            \n",
       "01-01-2024 00:00   337.626685         NaN         NaN\n",
       "01-01-2024 01:00   125.466573  337.626685         NaN\n",
       "01-01-2024 02:00   170.103418  125.466573  337.626685\n",
       "01-01-2024 03:00   236.191337  170.103418  125.466573\n",
       "01-01-2024 04:00   179.877096  236.191337  170.103418"
      ]
     },
     "execution_count": 366,
     "metadata": {},
     "output_type": "execute_result"
    }
   ],
   "source": [
    "df3['log2']= df3['PM10(μg/m³)'].shift(2)\n",
    "df3.head()"
   ]
  },
  {
   "cell_type": "code",
   "execution_count": 367,
   "id": "a44c5d15-cdf4-4b9a-807c-1d4a1c26a676",
   "metadata": {},
   "outputs": [
    {
     "data": {
      "text/html": [
       "<div>\n",
       "<style scoped>\n",
       "    .dataframe tbody tr th:only-of-type {\n",
       "        vertical-align: middle;\n",
       "    }\n",
       "\n",
       "    .dataframe tbody tr th {\n",
       "        vertical-align: top;\n",
       "    }\n",
       "\n",
       "    .dataframe thead th {\n",
       "        text-align: right;\n",
       "    }\n",
       "</style>\n",
       "<table border=\"1\" class=\"dataframe\">\n",
       "  <thead>\n",
       "    <tr style=\"text-align: right;\">\n",
       "      <th></th>\n",
       "      <th>PM10(μg/m³)</th>\n",
       "      <th>log1</th>\n",
       "      <th>log2</th>\n",
       "      <th>log3</th>\n",
       "    </tr>\n",
       "    <tr>\n",
       "      <th>Timestamp</th>\n",
       "      <th></th>\n",
       "      <th></th>\n",
       "      <th></th>\n",
       "      <th></th>\n",
       "    </tr>\n",
       "  </thead>\n",
       "  <tbody>\n",
       "    <tr>\n",
       "      <th>01-01-2024 00:00</th>\n",
       "      <td>337.626685</td>\n",
       "      <td>NaN</td>\n",
       "      <td>NaN</td>\n",
       "      <td>NaN</td>\n",
       "    </tr>\n",
       "    <tr>\n",
       "      <th>01-01-2024 01:00</th>\n",
       "      <td>125.466573</td>\n",
       "      <td>337.626685</td>\n",
       "      <td>NaN</td>\n",
       "      <td>NaN</td>\n",
       "    </tr>\n",
       "    <tr>\n",
       "      <th>01-01-2024 02:00</th>\n",
       "      <td>170.103418</td>\n",
       "      <td>125.466573</td>\n",
       "      <td>337.626685</td>\n",
       "      <td>NaN</td>\n",
       "    </tr>\n",
       "    <tr>\n",
       "      <th>01-01-2024 03:00</th>\n",
       "      <td>236.191337</td>\n",
       "      <td>170.103418</td>\n",
       "      <td>125.466573</td>\n",
       "      <td>337.626685</td>\n",
       "    </tr>\n",
       "    <tr>\n",
       "      <th>01-01-2024 04:00</th>\n",
       "      <td>179.877096</td>\n",
       "      <td>236.191337</td>\n",
       "      <td>170.103418</td>\n",
       "      <td>125.466573</td>\n",
       "    </tr>\n",
       "  </tbody>\n",
       "</table>\n",
       "</div>"
      ],
      "text/plain": [
       "                  PM10(μg/m³)        log1        log2        log3\n",
       "Timestamp                                                        \n",
       "01-01-2024 00:00   337.626685         NaN         NaN         NaN\n",
       "01-01-2024 01:00   125.466573  337.626685         NaN         NaN\n",
       "01-01-2024 02:00   170.103418  125.466573  337.626685         NaN\n",
       "01-01-2024 03:00   236.191337  170.103418  125.466573  337.626685\n",
       "01-01-2024 04:00   179.877096  236.191337  170.103418  125.466573"
      ]
     },
     "execution_count": 367,
     "metadata": {},
     "output_type": "execute_result"
    }
   ],
   "source": [
    "df3['log3']= df3['PM10(μg/m³)'].shift(3)\n",
    "df3.head()"
   ]
  },
  {
   "cell_type": "code",
   "execution_count": 368,
   "id": "f148d5d7-c323-4d9a-add0-347a2f50a0d3",
   "metadata": {},
   "outputs": [
    {
     "data": {
      "text/html": [
       "<div>\n",
       "<style scoped>\n",
       "    .dataframe tbody tr th:only-of-type {\n",
       "        vertical-align: middle;\n",
       "    }\n",
       "\n",
       "    .dataframe tbody tr th {\n",
       "        vertical-align: top;\n",
       "    }\n",
       "\n",
       "    .dataframe thead th {\n",
       "        text-align: right;\n",
       "    }\n",
       "</style>\n",
       "<table border=\"1\" class=\"dataframe\">\n",
       "  <thead>\n",
       "    <tr style=\"text-align: right;\">\n",
       "      <th></th>\n",
       "      <th>PM10(μg/m³)</th>\n",
       "      <th>log1</th>\n",
       "      <th>log2</th>\n",
       "      <th>log3</th>\n",
       "      <th>log4</th>\n",
       "    </tr>\n",
       "    <tr>\n",
       "      <th>Timestamp</th>\n",
       "      <th></th>\n",
       "      <th></th>\n",
       "      <th></th>\n",
       "      <th></th>\n",
       "      <th></th>\n",
       "    </tr>\n",
       "  </thead>\n",
       "  <tbody>\n",
       "    <tr>\n",
       "      <th>01-01-2024 00:00</th>\n",
       "      <td>337.626685</td>\n",
       "      <td>NaN</td>\n",
       "      <td>NaN</td>\n",
       "      <td>NaN</td>\n",
       "      <td>NaN</td>\n",
       "    </tr>\n",
       "    <tr>\n",
       "      <th>01-01-2024 01:00</th>\n",
       "      <td>125.466573</td>\n",
       "      <td>337.626685</td>\n",
       "      <td>NaN</td>\n",
       "      <td>NaN</td>\n",
       "      <td>NaN</td>\n",
       "    </tr>\n",
       "    <tr>\n",
       "      <th>01-01-2024 02:00</th>\n",
       "      <td>170.103418</td>\n",
       "      <td>125.466573</td>\n",
       "      <td>337.626685</td>\n",
       "      <td>NaN</td>\n",
       "      <td>NaN</td>\n",
       "    </tr>\n",
       "    <tr>\n",
       "      <th>01-01-2024 03:00</th>\n",
       "      <td>236.191337</td>\n",
       "      <td>170.103418</td>\n",
       "      <td>125.466573</td>\n",
       "      <td>337.626685</td>\n",
       "      <td>NaN</td>\n",
       "    </tr>\n",
       "    <tr>\n",
       "      <th>01-01-2024 04:00</th>\n",
       "      <td>179.877096</td>\n",
       "      <td>236.191337</td>\n",
       "      <td>170.103418</td>\n",
       "      <td>125.466573</td>\n",
       "      <td>337.626685</td>\n",
       "    </tr>\n",
       "  </tbody>\n",
       "</table>\n",
       "</div>"
      ],
      "text/plain": [
       "                  PM10(μg/m³)        log1        log2        log3        log4\n",
       "Timestamp                                                                    \n",
       "01-01-2024 00:00   337.626685         NaN         NaN         NaN         NaN\n",
       "01-01-2024 01:00   125.466573  337.626685         NaN         NaN         NaN\n",
       "01-01-2024 02:00   170.103418  125.466573  337.626685         NaN         NaN\n",
       "01-01-2024 03:00   236.191337  170.103418  125.466573  337.626685         NaN\n",
       "01-01-2024 04:00   179.877096  236.191337  170.103418  125.466573  337.626685"
      ]
     },
     "execution_count": 368,
     "metadata": {},
     "output_type": "execute_result"
    }
   ],
   "source": [
    "df3['log4']= df3['PM10(μg/m³)'].shift(4)\n",
    "df3.head()"
   ]
  },
  {
   "cell_type": "code",
   "execution_count": 369,
   "id": "9a6867fd-cb28-42a6-8d47-14e639092031",
   "metadata": {},
   "outputs": [
    {
     "data": {
      "text/html": [
       "<div>\n",
       "<style scoped>\n",
       "    .dataframe tbody tr th:only-of-type {\n",
       "        vertical-align: middle;\n",
       "    }\n",
       "\n",
       "    .dataframe tbody tr th {\n",
       "        vertical-align: top;\n",
       "    }\n",
       "\n",
       "    .dataframe thead th {\n",
       "        text-align: right;\n",
       "    }\n",
       "</style>\n",
       "<table border=\"1\" class=\"dataframe\">\n",
       "  <thead>\n",
       "    <tr style=\"text-align: right;\">\n",
       "      <th></th>\n",
       "      <th>PM10(μg/m³)</th>\n",
       "      <th>log1</th>\n",
       "      <th>log2</th>\n",
       "      <th>log3</th>\n",
       "      <th>log4</th>\n",
       "      <th>MA1</th>\n",
       "    </tr>\n",
       "    <tr>\n",
       "      <th>Timestamp</th>\n",
       "      <th></th>\n",
       "      <th></th>\n",
       "      <th></th>\n",
       "      <th></th>\n",
       "      <th></th>\n",
       "      <th></th>\n",
       "    </tr>\n",
       "  </thead>\n",
       "  <tbody>\n",
       "    <tr>\n",
       "      <th>01-01-2024 00:00</th>\n",
       "      <td>337.626685</td>\n",
       "      <td>NaN</td>\n",
       "      <td>NaN</td>\n",
       "      <td>NaN</td>\n",
       "      <td>NaN</td>\n",
       "      <td>NaN</td>\n",
       "    </tr>\n",
       "    <tr>\n",
       "      <th>01-01-2024 01:00</th>\n",
       "      <td>125.466573</td>\n",
       "      <td>337.626685</td>\n",
       "      <td>NaN</td>\n",
       "      <td>NaN</td>\n",
       "      <td>NaN</td>\n",
       "      <td>NaN</td>\n",
       "    </tr>\n",
       "    <tr>\n",
       "      <th>01-01-2024 02:00</th>\n",
       "      <td>170.103418</td>\n",
       "      <td>125.466573</td>\n",
       "      <td>337.626685</td>\n",
       "      <td>NaN</td>\n",
       "      <td>NaN</td>\n",
       "      <td>211.065559</td>\n",
       "    </tr>\n",
       "    <tr>\n",
       "      <th>01-01-2024 03:00</th>\n",
       "      <td>236.191337</td>\n",
       "      <td>170.103418</td>\n",
       "      <td>125.466573</td>\n",
       "      <td>337.626685</td>\n",
       "      <td>NaN</td>\n",
       "      <td>177.253776</td>\n",
       "    </tr>\n",
       "    <tr>\n",
       "      <th>01-01-2024 04:00</th>\n",
       "      <td>179.877096</td>\n",
       "      <td>236.191337</td>\n",
       "      <td>170.103418</td>\n",
       "      <td>125.466573</td>\n",
       "      <td>337.626685</td>\n",
       "      <td>195.390617</td>\n",
       "    </tr>\n",
       "  </tbody>\n",
       "</table>\n",
       "</div>"
      ],
      "text/plain": [
       "                  PM10(μg/m³)        log1        log2        log3        log4  \\\n",
       "Timestamp                                                                       \n",
       "01-01-2024 00:00   337.626685         NaN         NaN         NaN         NaN   \n",
       "01-01-2024 01:00   125.466573  337.626685         NaN         NaN         NaN   \n",
       "01-01-2024 02:00   170.103418  125.466573  337.626685         NaN         NaN   \n",
       "01-01-2024 03:00   236.191337  170.103418  125.466573  337.626685         NaN   \n",
       "01-01-2024 04:00   179.877096  236.191337  170.103418  125.466573  337.626685   \n",
       "\n",
       "                         MA1  \n",
       "Timestamp                     \n",
       "01-01-2024 00:00         NaN  \n",
       "01-01-2024 01:00         NaN  \n",
       "01-01-2024 02:00  211.065559  \n",
       "01-01-2024 03:00  177.253776  \n",
       "01-01-2024 04:00  195.390617  "
      ]
     },
     "execution_count": 369,
     "metadata": {},
     "output_type": "execute_result"
    }
   ],
   "source": [
    "df3['MA1']= df3['PM10(μg/m³)'].rolling(window=3).mean()\n",
    "df3.head()"
   ]
  },
  {
   "cell_type": "code",
   "execution_count": 370,
   "id": "819455ab-b0a2-4599-bd49-c9898060a984",
   "metadata": {},
   "outputs": [
    {
     "data": {
      "text/html": [
       "<div>\n",
       "<style scoped>\n",
       "    .dataframe tbody tr th:only-of-type {\n",
       "        vertical-align: middle;\n",
       "    }\n",
       "\n",
       "    .dataframe tbody tr th {\n",
       "        vertical-align: top;\n",
       "    }\n",
       "\n",
       "    .dataframe thead th {\n",
       "        text-align: right;\n",
       "    }\n",
       "</style>\n",
       "<table border=\"1\" class=\"dataframe\">\n",
       "  <thead>\n",
       "    <tr style=\"text-align: right;\">\n",
       "      <th></th>\n",
       "      <th>PM10(μg/m³)</th>\n",
       "      <th>log1</th>\n",
       "      <th>log2</th>\n",
       "      <th>log3</th>\n",
       "      <th>log4</th>\n",
       "      <th>MA1</th>\n",
       "      <th>MA2</th>\n",
       "    </tr>\n",
       "    <tr>\n",
       "      <th>Timestamp</th>\n",
       "      <th></th>\n",
       "      <th></th>\n",
       "      <th></th>\n",
       "      <th></th>\n",
       "      <th></th>\n",
       "      <th></th>\n",
       "      <th></th>\n",
       "    </tr>\n",
       "  </thead>\n",
       "  <tbody>\n",
       "    <tr>\n",
       "      <th>01-01-2024 00:00</th>\n",
       "      <td>337.626685</td>\n",
       "      <td>NaN</td>\n",
       "      <td>NaN</td>\n",
       "      <td>NaN</td>\n",
       "      <td>NaN</td>\n",
       "      <td>NaN</td>\n",
       "      <td>NaN</td>\n",
       "    </tr>\n",
       "    <tr>\n",
       "      <th>01-01-2024 01:00</th>\n",
       "      <td>125.466573</td>\n",
       "      <td>337.626685</td>\n",
       "      <td>NaN</td>\n",
       "      <td>NaN</td>\n",
       "      <td>NaN</td>\n",
       "      <td>NaN</td>\n",
       "      <td>NaN</td>\n",
       "    </tr>\n",
       "    <tr>\n",
       "      <th>01-01-2024 02:00</th>\n",
       "      <td>170.103418</td>\n",
       "      <td>125.466573</td>\n",
       "      <td>337.626685</td>\n",
       "      <td>NaN</td>\n",
       "      <td>NaN</td>\n",
       "      <td>211.065559</td>\n",
       "      <td>NaN</td>\n",
       "    </tr>\n",
       "    <tr>\n",
       "      <th>01-01-2024 03:00</th>\n",
       "      <td>236.191337</td>\n",
       "      <td>170.103418</td>\n",
       "      <td>125.466573</td>\n",
       "      <td>337.626685</td>\n",
       "      <td>NaN</td>\n",
       "      <td>177.253776</td>\n",
       "      <td>337.626685</td>\n",
       "    </tr>\n",
       "    <tr>\n",
       "      <th>01-01-2024 04:00</th>\n",
       "      <td>179.877096</td>\n",
       "      <td>236.191337</td>\n",
       "      <td>170.103418</td>\n",
       "      <td>125.466573</td>\n",
       "      <td>337.626685</td>\n",
       "      <td>195.390617</td>\n",
       "      <td>236.191337</td>\n",
       "    </tr>\n",
       "  </tbody>\n",
       "</table>\n",
       "</div>"
      ],
      "text/plain": [
       "                  PM10(μg/m³)        log1        log2        log3        log4  \\\n",
       "Timestamp                                                                       \n",
       "01-01-2024 00:00   337.626685         NaN         NaN         NaN         NaN   \n",
       "01-01-2024 01:00   125.466573  337.626685         NaN         NaN         NaN   \n",
       "01-01-2024 02:00   170.103418  125.466573  337.626685         NaN         NaN   \n",
       "01-01-2024 03:00   236.191337  170.103418  125.466573  337.626685         NaN   \n",
       "01-01-2024 04:00   179.877096  236.191337  170.103418  125.466573  337.626685   \n",
       "\n",
       "                         MA1         MA2  \n",
       "Timestamp                                 \n",
       "01-01-2024 00:00         NaN         NaN  \n",
       "01-01-2024 01:00         NaN         NaN  \n",
       "01-01-2024 02:00  211.065559         NaN  \n",
       "01-01-2024 03:00  177.253776  337.626685  \n",
       "01-01-2024 04:00  195.390617  236.191337  "
      ]
     },
     "execution_count": 370,
     "metadata": {},
     "output_type": "execute_result"
    }
   ],
   "source": [
    "df3['MA2']= df3['PM10(μg/m³)'].rolling(window=4).max()\n",
    "df3.head()"
   ]
  },
  {
   "cell_type": "code",
   "execution_count": 371,
   "id": "c61ec47e-1449-4f31-8e8c-15f54c9b81ab",
   "metadata": {},
   "outputs": [
    {
     "data": {
      "text/html": [
       "<div>\n",
       "<style scoped>\n",
       "    .dataframe tbody tr th:only-of-type {\n",
       "        vertical-align: middle;\n",
       "    }\n",
       "\n",
       "    .dataframe tbody tr th {\n",
       "        vertical-align: top;\n",
       "    }\n",
       "\n",
       "    .dataframe thead th {\n",
       "        text-align: right;\n",
       "    }\n",
       "</style>\n",
       "<table border=\"1\" class=\"dataframe\">\n",
       "  <thead>\n",
       "    <tr style=\"text-align: right;\">\n",
       "      <th></th>\n",
       "      <th>PM10(μg/m³)</th>\n",
       "      <th>log1</th>\n",
       "      <th>log2</th>\n",
       "      <th>log3</th>\n",
       "      <th>log4</th>\n",
       "      <th>MA1</th>\n",
       "      <th>MA2</th>\n",
       "      <th>MA3</th>\n",
       "    </tr>\n",
       "    <tr>\n",
       "      <th>Timestamp</th>\n",
       "      <th></th>\n",
       "      <th></th>\n",
       "      <th></th>\n",
       "      <th></th>\n",
       "      <th></th>\n",
       "      <th></th>\n",
       "      <th></th>\n",
       "      <th></th>\n",
       "    </tr>\n",
       "  </thead>\n",
       "  <tbody>\n",
       "    <tr>\n",
       "      <th>01-01-2024 00:00</th>\n",
       "      <td>337.626685</td>\n",
       "      <td>NaN</td>\n",
       "      <td>NaN</td>\n",
       "      <td>NaN</td>\n",
       "      <td>NaN</td>\n",
       "      <td>NaN</td>\n",
       "      <td>NaN</td>\n",
       "      <td>NaN</td>\n",
       "    </tr>\n",
       "    <tr>\n",
       "      <th>01-01-2024 01:00</th>\n",
       "      <td>125.466573</td>\n",
       "      <td>337.626685</td>\n",
       "      <td>NaN</td>\n",
       "      <td>NaN</td>\n",
       "      <td>NaN</td>\n",
       "      <td>NaN</td>\n",
       "      <td>NaN</td>\n",
       "      <td>NaN</td>\n",
       "    </tr>\n",
       "    <tr>\n",
       "      <th>01-01-2024 02:00</th>\n",
       "      <td>170.103418</td>\n",
       "      <td>125.466573</td>\n",
       "      <td>337.626685</td>\n",
       "      <td>NaN</td>\n",
       "      <td>NaN</td>\n",
       "      <td>211.065559</td>\n",
       "      <td>NaN</td>\n",
       "      <td>NaN</td>\n",
       "    </tr>\n",
       "    <tr>\n",
       "      <th>01-01-2024 03:00</th>\n",
       "      <td>236.191337</td>\n",
       "      <td>170.103418</td>\n",
       "      <td>125.466573</td>\n",
       "      <td>337.626685</td>\n",
       "      <td>NaN</td>\n",
       "      <td>177.253776</td>\n",
       "      <td>337.626685</td>\n",
       "      <td>NaN</td>\n",
       "    </tr>\n",
       "    <tr>\n",
       "      <th>01-01-2024 04:00</th>\n",
       "      <td>179.877096</td>\n",
       "      <td>236.191337</td>\n",
       "      <td>170.103418</td>\n",
       "      <td>125.466573</td>\n",
       "      <td>337.626685</td>\n",
       "      <td>195.390617</td>\n",
       "      <td>236.191337</td>\n",
       "      <td>81.57738</td>\n",
       "    </tr>\n",
       "  </tbody>\n",
       "</table>\n",
       "</div>"
      ],
      "text/plain": [
       "                  PM10(μg/m³)        log1        log2        log3        log4  \\\n",
       "Timestamp                                                                       \n",
       "01-01-2024 00:00   337.626685         NaN         NaN         NaN         NaN   \n",
       "01-01-2024 01:00   125.466573  337.626685         NaN         NaN         NaN   \n",
       "01-01-2024 02:00   170.103418  125.466573  337.626685         NaN         NaN   \n",
       "01-01-2024 03:00   236.191337  170.103418  125.466573  337.626685         NaN   \n",
       "01-01-2024 04:00   179.877096  236.191337  170.103418  125.466573  337.626685   \n",
       "\n",
       "                         MA1         MA2       MA3  \n",
       "Timestamp                                           \n",
       "01-01-2024 00:00         NaN         NaN       NaN  \n",
       "01-01-2024 01:00         NaN         NaN       NaN  \n",
       "01-01-2024 02:00  211.065559         NaN       NaN  \n",
       "01-01-2024 03:00  177.253776  337.626685       NaN  \n",
       "01-01-2024 04:00  195.390617  236.191337  81.57738  "
      ]
     },
     "execution_count": 371,
     "metadata": {},
     "output_type": "execute_result"
    }
   ],
   "source": [
    "df3['MA3']= df3['PM10(μg/m³)'].rolling(window=5).std()\n",
    "df3.head()"
   ]
  },
  {
   "cell_type": "code",
   "execution_count": 372,
   "id": "b1075346-5e5c-4a87-bc85-b5739979f41a",
   "metadata": {},
   "outputs": [
    {
     "data": {
      "text/html": [
       "<div>\n",
       "<style scoped>\n",
       "    .dataframe tbody tr th:only-of-type {\n",
       "        vertical-align: middle;\n",
       "    }\n",
       "\n",
       "    .dataframe tbody tr th {\n",
       "        vertical-align: top;\n",
       "    }\n",
       "\n",
       "    .dataframe thead th {\n",
       "        text-align: right;\n",
       "    }\n",
       "</style>\n",
       "<table border=\"1\" class=\"dataframe\">\n",
       "  <thead>\n",
       "    <tr style=\"text-align: right;\">\n",
       "      <th></th>\n",
       "      <th>PM10(μg/m³)</th>\n",
       "      <th>log1</th>\n",
       "      <th>log2</th>\n",
       "      <th>log3</th>\n",
       "      <th>log4</th>\n",
       "      <th>MA1</th>\n",
       "      <th>MA2</th>\n",
       "      <th>MA3</th>\n",
       "    </tr>\n",
       "    <tr>\n",
       "      <th>Timestamp</th>\n",
       "      <th></th>\n",
       "      <th></th>\n",
       "      <th></th>\n",
       "      <th></th>\n",
       "      <th></th>\n",
       "      <th></th>\n",
       "      <th></th>\n",
       "      <th></th>\n",
       "    </tr>\n",
       "  </thead>\n",
       "  <tbody>\n",
       "    <tr>\n",
       "      <th>01-01-2024 04:00</th>\n",
       "      <td>179.877096</td>\n",
       "      <td>236.191337</td>\n",
       "      <td>170.103418</td>\n",
       "      <td>125.466573</td>\n",
       "      <td>337.626685</td>\n",
       "      <td>195.390617</td>\n",
       "      <td>236.191337</td>\n",
       "      <td>81.577380</td>\n",
       "    </tr>\n",
       "    <tr>\n",
       "      <th>01-01-2024 05:00</th>\n",
       "      <td>254.317696</td>\n",
       "      <td>179.877096</td>\n",
       "      <td>236.191337</td>\n",
       "      <td>170.103418</td>\n",
       "      <td>125.466573</td>\n",
       "      <td>223.462043</td>\n",
       "      <td>254.317696</td>\n",
       "      <td>52.159363</td>\n",
       "    </tr>\n",
       "    <tr>\n",
       "      <th>01-01-2024 06:00</th>\n",
       "      <td>274.081943</td>\n",
       "      <td>254.317696</td>\n",
       "      <td>179.877096</td>\n",
       "      <td>236.191337</td>\n",
       "      <td>170.103418</td>\n",
       "      <td>236.092245</td>\n",
       "      <td>274.081943</td>\n",
       "      <td>45.885103</td>\n",
       "    </tr>\n",
       "    <tr>\n",
       "      <th>01-01-2024 07:00</th>\n",
       "      <td>252.628203</td>\n",
       "      <td>274.081943</td>\n",
       "      <td>254.317696</td>\n",
       "      <td>179.877096</td>\n",
       "      <td>236.191337</td>\n",
       "      <td>260.342614</td>\n",
       "      <td>274.081943</td>\n",
       "      <td>35.894393</td>\n",
       "    </tr>\n",
       "    <tr>\n",
       "      <th>01-01-2024 08:00</th>\n",
       "      <td>285.080456</td>\n",
       "      <td>252.628203</td>\n",
       "      <td>274.081943</td>\n",
       "      <td>254.317696</td>\n",
       "      <td>179.877096</td>\n",
       "      <td>270.596867</td>\n",
       "      <td>285.080456</td>\n",
       "      <td>41.079577</td>\n",
       "    </tr>\n",
       "    <tr>\n",
       "      <th>...</th>\n",
       "      <td>...</td>\n",
       "      <td>...</td>\n",
       "      <td>...</td>\n",
       "      <td>...</td>\n",
       "      <td>...</td>\n",
       "      <td>...</td>\n",
       "      <td>...</td>\n",
       "      <td>...</td>\n",
       "    </tr>\n",
       "    <tr>\n",
       "      <th>29-02-2024 19:00</th>\n",
       "      <td>188.498352</td>\n",
       "      <td>307.166993</td>\n",
       "      <td>191.536008</td>\n",
       "      <td>344.989099</td>\n",
       "      <td>197.672301</td>\n",
       "      <td>229.067118</td>\n",
       "      <td>344.989099</td>\n",
       "      <td>74.411981</td>\n",
       "    </tr>\n",
       "    <tr>\n",
       "      <th>29-02-2024 20:00</th>\n",
       "      <td>248.066549</td>\n",
       "      <td>188.498352</td>\n",
       "      <td>307.166993</td>\n",
       "      <td>191.536008</td>\n",
       "      <td>344.989099</td>\n",
       "      <td>247.910631</td>\n",
       "      <td>307.166993</td>\n",
       "      <td>69.484038</td>\n",
       "    </tr>\n",
       "    <tr>\n",
       "      <th>29-02-2024 21:00</th>\n",
       "      <td>267.094867</td>\n",
       "      <td>248.066549</td>\n",
       "      <td>188.498352</td>\n",
       "      <td>307.166993</td>\n",
       "      <td>191.536008</td>\n",
       "      <td>234.553256</td>\n",
       "      <td>307.166993</td>\n",
       "      <td>50.770729</td>\n",
       "    </tr>\n",
       "    <tr>\n",
       "      <th>29-02-2024 22:00</th>\n",
       "      <td>306.610141</td>\n",
       "      <td>267.094867</td>\n",
       "      <td>248.066549</td>\n",
       "      <td>188.498352</td>\n",
       "      <td>307.166993</td>\n",
       "      <td>273.923852</td>\n",
       "      <td>306.610141</td>\n",
       "      <td>49.095956</td>\n",
       "    </tr>\n",
       "    <tr>\n",
       "      <th>29-02-2024 23:00</th>\n",
       "      <td>191.358142</td>\n",
       "      <td>306.610141</td>\n",
       "      <td>267.094867</td>\n",
       "      <td>248.066549</td>\n",
       "      <td>188.498352</td>\n",
       "      <td>255.021050</td>\n",
       "      <td>306.610141</td>\n",
       "      <td>50.631097</td>\n",
       "    </tr>\n",
       "  </tbody>\n",
       "</table>\n",
       "<p>1436 rows × 8 columns</p>\n",
       "</div>"
      ],
      "text/plain": [
       "                  PM10(μg/m³)        log1        log2        log3        log4  \\\n",
       "Timestamp                                                                       \n",
       "01-01-2024 04:00   179.877096  236.191337  170.103418  125.466573  337.626685   \n",
       "01-01-2024 05:00   254.317696  179.877096  236.191337  170.103418  125.466573   \n",
       "01-01-2024 06:00   274.081943  254.317696  179.877096  236.191337  170.103418   \n",
       "01-01-2024 07:00   252.628203  274.081943  254.317696  179.877096  236.191337   \n",
       "01-01-2024 08:00   285.080456  252.628203  274.081943  254.317696  179.877096   \n",
       "...                       ...         ...         ...         ...         ...   \n",
       "29-02-2024 19:00   188.498352  307.166993  191.536008  344.989099  197.672301   \n",
       "29-02-2024 20:00   248.066549  188.498352  307.166993  191.536008  344.989099   \n",
       "29-02-2024 21:00   267.094867  248.066549  188.498352  307.166993  191.536008   \n",
       "29-02-2024 22:00   306.610141  267.094867  248.066549  188.498352  307.166993   \n",
       "29-02-2024 23:00   191.358142  306.610141  267.094867  248.066549  188.498352   \n",
       "\n",
       "                         MA1         MA2        MA3  \n",
       "Timestamp                                            \n",
       "01-01-2024 04:00  195.390617  236.191337  81.577380  \n",
       "01-01-2024 05:00  223.462043  254.317696  52.159363  \n",
       "01-01-2024 06:00  236.092245  274.081943  45.885103  \n",
       "01-01-2024 07:00  260.342614  274.081943  35.894393  \n",
       "01-01-2024 08:00  270.596867  285.080456  41.079577  \n",
       "...                      ...         ...        ...  \n",
       "29-02-2024 19:00  229.067118  344.989099  74.411981  \n",
       "29-02-2024 20:00  247.910631  307.166993  69.484038  \n",
       "29-02-2024 21:00  234.553256  307.166993  50.770729  \n",
       "29-02-2024 22:00  273.923852  306.610141  49.095956  \n",
       "29-02-2024 23:00  255.021050  306.610141  50.631097  \n",
       "\n",
       "[1436 rows x 8 columns]"
      ]
     },
     "execution_count": 372,
     "metadata": {},
     "output_type": "execute_result"
    }
   ],
   "source": [
    "df3.dropna()    # Redy for putting values in modeules "
   ]
  },
  {
   "cell_type": "markdown",
   "id": "7bbc246f-2887-48db-bc28-f297f56d63ac",
   "metadata": {},
   "source": [
    "#### 4. Stationary Time Series -Testing"
   ]
  },
  {
   "cell_type": "code",
   "execution_count": 373,
   "id": "531589a4-1abd-4cab-a031-8d4d9d779581",
   "metadata": {},
   "outputs": [
    {
     "data": {
      "text/plain": [
       "array([[<Axes: title={'center': 'PM10(μg/m³)'}>,\n",
       "        <Axes: title={'center': 'log1'}>,\n",
       "        <Axes: title={'center': 'log2'}>],\n",
       "       [<Axes: title={'center': 'log3'}>,\n",
       "        <Axes: title={'center': 'log4'}>,\n",
       "        <Axes: title={'center': 'MA1'}>],\n",
       "       [<Axes: title={'center': 'MA2'}>, <Axes: title={'center': 'MA3'}>,\n",
       "        <Axes: >]], dtype=object)"
      ]
     },
     "execution_count": 373,
     "metadata": {},
     "output_type": "execute_result"
    },
    {
     "data": {
      "image/png": "[encoded data removed]",
      "text/plain": [
       "<Figure size 640x480 with 9 Axes>"
      ]
     },
     "metadata": {},
     "output_type": "display_data"
    }
   ],
   "source": [
    "df3.hist()"
   ]
  },
  {
   "cell_type": "markdown",
   "id": "9adab1cf-ee7e-47bd-9cd2-43e81574b2ad",
   "metadata": {},
   "source": [
    ">>>>  PM 10 is slightly right towards"
   ]
  },
  {
   "cell_type": "code",
   "execution_count": 374,
   "id": "23274069-75d7-42a7-b5a9-8e053172f6b3",
   "metadata": {},
   "outputs": [],
   "source": [
    "from statsmodels.tsa.stattools import adfuller"
   ]
  },
  {
   "cell_type": "code",
   "execution_count": 375,
   "id": "8bd881c6-970c-4426-bd23-cf2594efaeda",
   "metadata": {},
   "outputs": [
    {
     "data": {
      "text/html": [
       "<div>\n",
       "<style scoped>\n",
       "    .dataframe tbody tr th:only-of-type {\n",
       "        vertical-align: middle;\n",
       "    }\n",
       "\n",
       "    .dataframe tbody tr th {\n",
       "        vertical-align: top;\n",
       "    }\n",
       "\n",
       "    .dataframe thead th {\n",
       "        text-align: right;\n",
       "    }\n",
       "</style>\n",
       "<table border=\"1\" class=\"dataframe\">\n",
       "  <thead>\n",
       "    <tr style=\"text-align: right;\">\n",
       "      <th></th>\n",
       "      <th>PM10(μg/m³)</th>\n",
       "    </tr>\n",
       "    <tr>\n",
       "      <th>Timestamp</th>\n",
       "      <th></th>\n",
       "    </tr>\n",
       "  </thead>\n",
       "  <tbody>\n",
       "    <tr>\n",
       "      <th>01-01-2024 00:00</th>\n",
       "      <td>337.626685</td>\n",
       "    </tr>\n",
       "    <tr>\n",
       "      <th>01-01-2024 01:00</th>\n",
       "      <td>125.466573</td>\n",
       "    </tr>\n",
       "    <tr>\n",
       "      <th>01-01-2024 02:00</th>\n",
       "      <td>170.103418</td>\n",
       "    </tr>\n",
       "    <tr>\n",
       "      <th>01-01-2024 03:00</th>\n",
       "      <td>236.191337</td>\n",
       "    </tr>\n",
       "    <tr>\n",
       "      <th>01-01-2024 04:00</th>\n",
       "      <td>179.877096</td>\n",
       "    </tr>\n",
       "  </tbody>\n",
       "</table>\n",
       "</div>"
      ],
      "text/plain": [
       "                  PM10(μg/m³)\n",
       "Timestamp                    \n",
       "01-01-2024 00:00   337.626685\n",
       "01-01-2024 01:00   125.466573\n",
       "01-01-2024 02:00   170.103418\n",
       "01-01-2024 03:00   236.191337\n",
       "01-01-2024 04:00   179.877096"
      ]
     },
     "execution_count": 375,
     "metadata": {},
     "output_type": "execute_result"
    }
   ],
   "source": [
    "df3= pd.read_csv('air_quality_data.csv_', index_col=[0], parse_dates= [0])     # Mainly csv fie saved as df3\n",
    "df3.head()"
   ]
  },
  {
   "cell_type": "code",
   "execution_count": 376,
   "id": "f0d2da54-32fc-4cd3-a05b-291bd2ddc121",
   "metadata": {},
   "outputs": [
    {
     "data": {
      "text/plain": [
       "numpy.ndarray"
      ]
     },
     "execution_count": 376,
     "metadata": {},
     "output_type": "execute_result"
    }
   ],
   "source": [
    "type(df3.values)"
   ]
  },
  {
   "cell_type": "code",
   "execution_count": 377,
   "id": "023b2549-6795-48b4-9be5-3dc8bc5e5e16",
   "metadata": {},
   "outputs": [
    {
     "name": "stdout",
     "output_type": "stream",
     "text": [
      "Timestamp\n",
      "01-01-2024 00:00    337.626685\n",
      "01-01-2024 01:00    125.466573\n",
      "01-01-2024 02:00    170.103418\n",
      "01-01-2024 03:00    236.191337\n",
      "01-01-2024 04:00    179.877096\n",
      "                       ...    \n",
      "29-02-2024 19:00    188.498352\n",
      "29-02-2024 20:00    248.066549\n",
      "29-02-2024 21:00    267.094867\n",
      "29-02-2024 22:00    306.610141\n",
      "29-02-2024 23:00    191.358142\n",
      "Name: PM10(μg/m³), Length: 1440, dtype: float64\n"
     ]
    }
   ],
   "source": [
    "import pandas as pd\n",
    "\n",
    "# Convert to Series if there's only one column\n",
    "if df3.shape[1] == 1:\n",
    "    df = df3.iloc[:, 0]\n",
    "\n",
    "print(df)\n"
   ]
  },
  {
   "cell_type": "code",
   "execution_count": 378,
   "id": "2399077b-8483-447a-a9f7-23d19a96d774",
   "metadata": {},
   "outputs": [],
   "source": [
    "adf_test= adfuller(df)"
   ]
  },
  {
   "cell_type": "code",
   "execution_count": 379,
   "id": "7bb12bcc-4c60-411b-b689-223db4949022",
   "metadata": {},
   "outputs": [
    {
     "data": {
      "text/plain": [
       "np.float64(-20.510136584782696)"
      ]
     },
     "execution_count": 379,
     "metadata": {},
     "output_type": "execute_result"
    }
   ],
   "source": [
    "adf_test[0]"
   ]
  },
  {
   "cell_type": "code",
   "execution_count": 380,
   "id": "a5a9dfa0-568e-45ee-84e2-62e6895207fc",
   "metadata": {},
   "outputs": [
    {
     "data": {
      "text/plain": [
       "0.0"
      ]
     },
     "execution_count": 380,
     "metadata": {},
     "output_type": "execute_result"
    }
   ],
   "source": [
    "adf_test[1]"
   ]
  },
  {
   "cell_type": "code",
   "execution_count": 381,
   "id": "1003cd50-85b9-496f-866f-1b8cdae3273f",
   "metadata": {},
   "outputs": [
    {
     "data": {
      "text/plain": [
       "<Axes: >"
      ]
     },
     "execution_count": 381,
     "metadata": {},
     "output_type": "execute_result"
    },
    {
     "data": {
      "image/png": "[encoded data removed]",
      "text/plain": [
       "<Figure size 640x480 with 1 Axes>"
      ]
     },
     "metadata": {},
     "output_type": "display_data"
    }
   ],
   "source": [
    "df.hist()"
   ]
  },
  {
   "cell_type": "markdown",
   "id": "9b654905-f369-4611-ab23-f70d7f6b56cc",
   "metadata": {},
   "source": [
    "### HyperParameters Tunning"
   ]
  },
  {
   "cell_type": "code",
   "execution_count": 263,
   "id": "6aa84b44-8316-41c5-b3c4-6e353a517474",
   "metadata": {},
   "outputs": [],
   "source": [
    "from sklearn.metrics import mean_squared_error"
   ]
  },
  {
   "cell_type": "code",
   "execution_count": 382,
   "id": "ccc0effe-e2ff-4a2a-b101-217eaf31ff85",
   "metadata": {},
   "outputs": [],
   "source": [
    "p_values=range(0,8)\n",
    "d_values= range(0,4)\n",
    "q_values= range(0,5)\n"
   ]
  },
  {
   "cell_type": "code",
   "execution_count": 383,
   "id": "906e3e62-8b14-4c23-ab66-e097d4d8a2cd",
   "metadata": {},
   "outputs": [],
   "source": [
    "for p in p_values:\n",
    "    for d in d_values:\n",
    "        for q in d_values:\n",
    "            order= (p,d,q)\n",
    "            train, test=df3[0:1152]  , df3[1152:1440]\n",
    "            predictions= list()\n",
    "            for i in range(len(test)):\n",
    "                try:\n",
    "                    \n",
    "                    model= ARIMA(train, order)\n",
    "                    model_fit= model.fit(disp= 0)\n",
    "                    pred_y= model.fit_forecast()[0]\n",
    "                    predictions.append(pred_y)\n",
    "                    error= mean_squared_error(test, predictions)\n",
    "                    print(\"ARIMA MSE=\" (order, error))\n",
    "                except:\n",
    "                    continue\n",
    "\n",
    "\n",
    "\n",
    "#HEre will dispyed on which arima model pdq values accuracy how will be , this can choose on later."
   ]
  },
  {
   "cell_type": "code",
   "execution_count": null,
   "id": "f29cf049-dd5c-4372-9b6c-f565d71ad194",
   "metadata": {},
   "outputs": [],
   "source": [
    "# NOt showing order and how may errors (May be some kind of miswritten here )"
   ]
  }
 ],
 "metadata": {
  "kernelspec": {
   "display_name": "Python 3 (ipykernel)",
   "language": "python",
   "name": "python3"
  },
  "language_info": {
   "codemirror_mode": {
    "name": "ipython",
    "version": 3
   },
   "file_extension": ".py",
   "mimetype": "text/x-python",
   "name": "python",
   "nbconvert_exporter": "python",
   "pygments_lexer": "ipython3",
   "version": "3.12.4"
  }
 },
 "nbformat": 4,
 "nbformat_minor": 5
}
